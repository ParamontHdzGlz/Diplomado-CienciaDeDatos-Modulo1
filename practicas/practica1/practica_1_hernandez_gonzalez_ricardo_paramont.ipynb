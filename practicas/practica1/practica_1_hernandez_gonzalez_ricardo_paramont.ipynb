{
 "cells": [
  {
   "cell_type": "markdown",
   "id": "silent-habitat",
   "metadata": {},
   "source": [
    "# Práctica I - Módulo I - Diplomado Ciencia de Datos  \n",
    "### Hernández González Ricardo Paramont  \n",
    "  \n",
    "**DataSets**: spotify_practica.csv , zips_practica.csv  \n",
    "\n",
    "***"
   ]
  },
  {
   "cell_type": "markdown",
   "id": "laden-society",
   "metadata": {},
   "source": [
    " ### 1. De los datos proporcionados realiza los siguientes puntos:  \n",
    "   \n",
    "   \n",
    " <div style=\"text-align: justify\"> \n",
    "(a) Realiza el etiquetado de las variables de acuerdo a su tipo de variable. <br\\>\n",
    "(b) Eliminar duplicados. <br\\>\n",
    "(c) Completitud de las variables. <br\\>\n",
    "(d) Elimina las variables que tengan el 20 % o más de valores ausentes. <br\\>\n",
    "(e) ¿Cuántos de los registros en la variable ”zip Code” son valores no válidos? , es decir, contienen letras. <br\\>\n",
    "(f) Elimina los registros que no tengas un ”zip Code” válido, es decir contenga letras en los valores. <br\\>\n",
    "(g) ¿Cuántos de los registros en la variable ”genero” son valores no validos? , es decir, contienen letras. <br\\>  \n",
    "(h) Elimina los registros que no tengas un ”genero” válido, es decir contenga letras en los valores. <br\\>\n",
    "(i) Haz una limpieza de la variable ”name” , elimina caracteres especiales y todo debe estar en minúsculas. <br\\>\n",
    "(j) De la variable ”artist” selecciona solo al primer artista que aparezca en la lista además de eliminar caracteres especiales. <br\\>\n",
    "(k) Normaliza la variable ”genero” de tal forma que obtengas solo 8 categorı́as. <br\\>\n",
    "(l) Añade las siguientes columnas a tu tabla base: zip, lat, lng, city, state name uti- lizando la tabla zips practica. <br\\>\n",
    "(m) Convierte las variables ”lat” y ”lng” en tipo flotante y valida que la información sea consistente. <br\\>\n",
    "(n) De la variable ”city” y ”state” elimina los dı́gitos que se encuentran dentro de las cadenas de texto. <br\\>  \n",
    "(o) Crea una nueva variable llamada ”state” que este conformada por ”city”,”state name”. <br\\>\n",
    "(p) Los valores de la nueva variable ”state” modificalos de cierta forma que todas sean minúsculas y sin acentos. <br\\>\n",
    "(q) Convierte los valores en la variable ”release date” a tipo datetime , además haz el conteo de las que no tienen la estructura necesaria para ser convertida en datetime y elimina esos registros.\n",
    " <div>\n",
    "     \n",
    "***"
   ]
  },
  {
   "cell_type": "code",
   "execution_count": 114,
   "id": "hungry-advice",
   "metadata": {},
   "outputs": [],
   "source": [
    "import pandas as pd\n",
    "import numpy as np\n",
    "import unicodedata\n",
    "import re"
   ]
  },
  {
   "cell_type": "code",
   "execution_count": 115,
   "id": "listed-think",
   "metadata": {},
   "outputs": [
    {
     "name": "stderr",
     "output_type": "stream",
     "text": [
      "/home/paramont/.local/lib/python3.8/site-packages/IPython/core/interactiveshell.py:3146: DtypeWarning: Columns (18,19) have mixed types.Specify dtype option on import or set low_memory=False.\n",
      "  has_raised = await self.run_ast_nodes(code_ast.body, cell_name,\n"
     ]
    }
   ],
   "source": [
    "df = pd.read_csv(\"spotify_practica.csv\")"
   ]
  },
  {
   "cell_type": "markdown",
   "id": "interesting-alarm",
   "metadata": {},
   "source": [
    "**A)** Realiza el etiquetado de las variables de acuerdo a su tipo de variable.  \n",
    "    Etiquetas:  \n",
    "    - c: continuas  \n",
    "    - v: discretas  \n",
    "    - d: fechas/tiempo  \n",
    "    - t: texto"
   ]
  },
  {
   "cell_type": "code",
   "execution_count": 116,
   "id": "spectacular-differential",
   "metadata": {},
   "outputs": [],
   "source": [
    "# Defininiendo generador para tener facil acceso al nombre de las \n",
    "# columnas con cada invocación.\n",
    "gen_columns = (col for col in df.columns)"
   ]
  },
  {
   "cell_type": "code",
   "execution_count": 117,
   "id": "civic-million",
   "metadata": {},
   "outputs": [
    {
     "name": "stdout",
     "output_type": "stream",
     "text": [
      "acousticness\n",
      "<class 'numpy.float64'>\n"
     ]
    },
    {
     "data": {
      "text/plain": [
       "0    0.764\n",
       "1    0.917\n",
       "2    0.926\n",
       "3    0.976\n",
       "4    0.892\n",
       "Name: acousticness, dtype: float64"
      ]
     },
     "execution_count": 117,
     "metadata": {},
     "output_type": "execute_result"
    }
   ],
   "source": [
    "# Revisando tipo de dato y ejemplos de cada columna para decidir \n",
    "# su etiqueta.\n",
    "col = next(gen_columns)\n",
    "print(col)\n",
    "print(type(df[col][0]))\n",
    "df[col].head()"
   ]
  },
  {
   "cell_type": "code",
   "execution_count": 118,
   "id": "stone-intersection",
   "metadata": {},
   "outputs": [],
   "source": [
    "# definiendo tipo de las columnas.\n",
    "c_feats = ['acousticness', 'danceability', 'energy', 'instrumentalness', 'liveness', 'loudness', 'popularity', 'speechiness', 'tempo', 'valence']\n",
    "v_feats = ['explicit', 'key', 'mode', 'genero']\n",
    "d_feats = ['duration_ms', 'release_date']\n",
    "t_feats = ['artists', 'id', 'name', 'zip Code']\n",
    "\n",
    "#creando listas de nuevas etiquetas.\n",
    "c_feats_new=[\"c_\"+x for x in c_feats]\n",
    "v_feats_new=[\"v_\"+x for x in v_feats]\n",
    "d_feats_new=[\"d_\"+x for x in d_feats]\n",
    "t_feats_new=[\"t_\"+x for x in t_feats]\n",
    "\n",
    "#renombrando columnas\n",
    "df.rename(columns=dict(zip(d_feats,d_feats_new)),inplace=True)\n",
    "df.rename(columns=dict(zip(v_feats,v_feats_new)),inplace=True)\n",
    "df.rename(columns=dict(zip(t_feats,t_feats_new)),inplace=True)\n",
    "df.rename(columns=dict(zip(c_feats,c_feats_new)),inplace=True)"
   ]
  },
  {
   "cell_type": "code",
   "execution_count": 119,
   "id": "prepared-afghanistan",
   "metadata": {},
   "outputs": [
    {
     "data": {
      "text/plain": [
       "Index(['c_acousticness', 't_artists', 'c_danceability', 'd_duration_ms',\n",
       "       'c_energy', 'v_explicit', 't_id', 'c_instrumentalness', 'v_key',\n",
       "       'c_liveness', 'c_loudness', 'v_mode', 't_name', 'c_popularity',\n",
       "       'd_release_date', 'c_speechiness', 'c_tempo', 'c_valence', 't_zip Code',\n",
       "       'v_genero'],\n",
       "      dtype='object')"
      ]
     },
     "execution_count": 119,
     "metadata": {},
     "output_type": "execute_result"
    }
   ],
   "source": [
    "df.columns"
   ]
  },
  {
   "cell_type": "markdown",
   "id": "american-capture",
   "metadata": {},
   "source": [
    "**B)** Eliminar duplicados."
   ]
  },
  {
   "cell_type": "code",
   "execution_count": 120,
   "id": "narrative-islam",
   "metadata": {},
   "outputs": [
    {
     "data": {
      "text/plain": [
       "364"
      ]
     },
     "execution_count": 120,
     "metadata": {},
     "output_type": "execute_result"
    }
   ],
   "source": [
    "# Revisando número de registros duplicados\n",
    "df.duplicated().sum()"
   ]
  },
  {
   "cell_type": "code",
   "execution_count": 121,
   "id": "growing-governor",
   "metadata": {},
   "outputs": [
    {
     "data": {
      "text/plain": [
       "0"
      ]
     },
     "execution_count": 121,
     "metadata": {},
     "output_type": "execute_result"
    }
   ],
   "source": [
    "# Eliminando registros identicos\n",
    "df.drop_duplicates(inplace=True)\n",
    "# Eliminando registros si su id es identico\n",
    "df.drop_duplicates(subset='t_id', inplace=True)\n",
    "# Comprobando que ya no hay duplicados\n",
    "df.duplicated().sum()"
   ]
  },
  {
   "cell_type": "markdown",
   "id": "smoking-antenna",
   "metadata": {},
   "source": [
    "**C)** Completitud de las variables."
   ]
  },
  {
   "cell_type": "code",
   "execution_count": 122,
   "id": "suburban-event",
   "metadata": {},
   "outputs": [
    {
     "data": {
      "text/html": [
       "<div>\n",
       "<style scoped>\n",
       "    .dataframe tbody tr th:only-of-type {\n",
       "        vertical-align: middle;\n",
       "    }\n",
       "\n",
       "    .dataframe tbody tr th {\n",
       "        vertical-align: top;\n",
       "    }\n",
       "\n",
       "    .dataframe thead th {\n",
       "        text-align: right;\n",
       "    }\n",
       "</style>\n",
       "<table border=\"1\" class=\"dataframe\">\n",
       "  <thead>\n",
       "    <tr style=\"text-align: right;\">\n",
       "      <th></th>\n",
       "      <th>index</th>\n",
       "      <th>total</th>\n",
       "      <th>completitud</th>\n",
       "    </tr>\n",
       "  </thead>\n",
       "  <tbody>\n",
       "    <tr>\n",
       "      <th>0</th>\n",
       "      <td>c_acousticness</td>\n",
       "      <td>0</td>\n",
       "      <td>100.000000</td>\n",
       "    </tr>\n",
       "    <tr>\n",
       "      <th>1</th>\n",
       "      <td>t_artists</td>\n",
       "      <td>0</td>\n",
       "      <td>100.000000</td>\n",
       "    </tr>\n",
       "    <tr>\n",
       "      <th>2</th>\n",
       "      <td>c_danceability</td>\n",
       "      <td>0</td>\n",
       "      <td>100.000000</td>\n",
       "    </tr>\n",
       "    <tr>\n",
       "      <th>3</th>\n",
       "      <td>d_duration_ms</td>\n",
       "      <td>0</td>\n",
       "      <td>100.000000</td>\n",
       "    </tr>\n",
       "    <tr>\n",
       "      <th>4</th>\n",
       "      <td>c_energy</td>\n",
       "      <td>0</td>\n",
       "      <td>100.000000</td>\n",
       "    </tr>\n",
       "    <tr>\n",
       "      <th>5</th>\n",
       "      <td>v_explicit</td>\n",
       "      <td>62883</td>\n",
       "      <td>62.990189</td>\n",
       "    </tr>\n",
       "    <tr>\n",
       "      <th>6</th>\n",
       "      <td>t_id</td>\n",
       "      <td>0</td>\n",
       "      <td>100.000000</td>\n",
       "    </tr>\n",
       "    <tr>\n",
       "      <th>7</th>\n",
       "      <td>c_instrumentalness</td>\n",
       "      <td>0</td>\n",
       "      <td>100.000000</td>\n",
       "    </tr>\n",
       "    <tr>\n",
       "      <th>8</th>\n",
       "      <td>v_key</td>\n",
       "      <td>35746</td>\n",
       "      <td>78.961679</td>\n",
       "    </tr>\n",
       "    <tr>\n",
       "      <th>9</th>\n",
       "      <td>c_liveness</td>\n",
       "      <td>0</td>\n",
       "      <td>100.000000</td>\n",
       "    </tr>\n",
       "    <tr>\n",
       "      <th>10</th>\n",
       "      <td>c_loudness</td>\n",
       "      <td>0</td>\n",
       "      <td>100.000000</td>\n",
       "    </tr>\n",
       "    <tr>\n",
       "      <th>11</th>\n",
       "      <td>v_mode</td>\n",
       "      <td>0</td>\n",
       "      <td>100.000000</td>\n",
       "    </tr>\n",
       "    <tr>\n",
       "      <th>12</th>\n",
       "      <td>t_name</td>\n",
       "      <td>0</td>\n",
       "      <td>100.000000</td>\n",
       "    </tr>\n",
       "    <tr>\n",
       "      <th>13</th>\n",
       "      <td>c_popularity</td>\n",
       "      <td>3500</td>\n",
       "      <td>97.940074</td>\n",
       "    </tr>\n",
       "    <tr>\n",
       "      <th>14</th>\n",
       "      <td>d_release_date</td>\n",
       "      <td>0</td>\n",
       "      <td>100.000000</td>\n",
       "    </tr>\n",
       "    <tr>\n",
       "      <th>15</th>\n",
       "      <td>c_speechiness</td>\n",
       "      <td>0</td>\n",
       "      <td>100.000000</td>\n",
       "    </tr>\n",
       "    <tr>\n",
       "      <th>16</th>\n",
       "      <td>c_tempo</td>\n",
       "      <td>0</td>\n",
       "      <td>100.000000</td>\n",
       "    </tr>\n",
       "    <tr>\n",
       "      <th>17</th>\n",
       "      <td>c_valence</td>\n",
       "      <td>0</td>\n",
       "      <td>100.000000</td>\n",
       "    </tr>\n",
       "    <tr>\n",
       "      <th>18</th>\n",
       "      <td>t_zip Code</td>\n",
       "      <td>0</td>\n",
       "      <td>100.000000</td>\n",
       "    </tr>\n",
       "    <tr>\n",
       "      <th>19</th>\n",
       "      <td>v_genero</td>\n",
       "      <td>1698</td>\n",
       "      <td>99.000642</td>\n",
       "    </tr>\n",
       "  </tbody>\n",
       "</table>\n",
       "</div>"
      ],
      "text/plain": [
       "                 index  total  completitud\n",
       "0       c_acousticness      0   100.000000\n",
       "1            t_artists      0   100.000000\n",
       "2       c_danceability      0   100.000000\n",
       "3        d_duration_ms      0   100.000000\n",
       "4             c_energy      0   100.000000\n",
       "5           v_explicit  62883    62.990189\n",
       "6                 t_id      0   100.000000\n",
       "7   c_instrumentalness      0   100.000000\n",
       "8                v_key  35746    78.961679\n",
       "9           c_liveness      0   100.000000\n",
       "10          c_loudness      0   100.000000\n",
       "11              v_mode      0   100.000000\n",
       "12              t_name      0   100.000000\n",
       "13        c_popularity   3500    97.940074\n",
       "14      d_release_date      0   100.000000\n",
       "15       c_speechiness      0   100.000000\n",
       "16             c_tempo      0   100.000000\n",
       "17           c_valence      0   100.000000\n",
       "18          t_zip Code      0   100.000000\n",
       "19            v_genero   1698    99.000642"
      ]
     },
     "execution_count": 122,
     "metadata": {},
     "output_type": "execute_result"
    }
   ],
   "source": [
    "# Creando DataFrame para revisar completitud de cada columna.\n",
    "comple=pd.DataFrame(df.isnull().sum())\n",
    "comple=comple.rename(columns={\"index\":\"columna\",0:\"total\"})\n",
    "comple[\"completitud\"]=(1-comple['total']/df.shape[0])*100\n",
    "# incluyendo etiquetas de las filas , que son las columnas, al df\n",
    "comple.reset_index(inplace=True)\n",
    "comple"
   ]
  },
  {
   "cell_type": "markdown",
   "id": "fallen-killing",
   "metadata": {},
   "source": [
    "**D)** Elimina las variables que tengan el 20 % o m´as de valores ausentes."
   ]
  },
  {
   "cell_type": "code",
   "execution_count": 123,
   "id": "compliant-hollywood",
   "metadata": {},
   "outputs": [],
   "source": [
    "# Obtenemos el nombre de las columnas cuya completitud es menor a 80\n",
    "# extrayendo los valores de la columna index del df comple\n",
    "index_to_drop = comple[comple[\"completitud\"]<80][\"index\"].values\n",
    "df.drop(columns = index_to_drop, inplace=True)"
   ]
  },
  {
   "cell_type": "code",
   "execution_count": 124,
   "id": "sealed-spotlight",
   "metadata": {},
   "outputs": [
    {
     "data": {
      "text/plain": [
       "False"
      ]
     },
     "execution_count": 124,
     "metadata": {},
     "output_type": "execute_result"
    }
   ],
   "source": [
    "# Comprobando que se borraron v_key y v_explicit\n",
    "\"v_explicit\" in df.columns"
   ]
  },
  {
   "cell_type": "code",
   "execution_count": 125,
   "id": "protecting-pakistan",
   "metadata": {},
   "outputs": [
    {
     "data": {
      "text/plain": [
       "False"
      ]
     },
     "execution_count": 125,
     "metadata": {},
     "output_type": "execute_result"
    }
   ],
   "source": [
    "\"v_key\" in df.columns"
   ]
  },
  {
   "cell_type": "markdown",
   "id": "insured-extent",
   "metadata": {},
   "source": [
    "**E)** ¿Cuántos de los registros en la variable ”zip Code” son valores no válidos? , es\n",
    "decir, contienen letras."
   ]
  },
  {
   "cell_type": "code",
   "execution_count": 126,
   "id": "quantitative-newfoundland",
   "metadata": {},
   "outputs": [
    {
     "data": {
      "text/plain": [
       "4341"
      ]
     },
     "execution_count": 126,
     "metadata": {},
     "output_type": "execute_result"
    }
   ],
   "source": [
    "# Usamos str.contains con una regex para obtener zip codes invalidos\n",
    "invalid_zip_codes = df[\"t_zip Code\"][df[\"t_zip Code\"].str.contains('[A-Za-z]', na=False)]\n",
    "# Con count tenemos el total de zip codes invalidos.\n",
    "invalid_zip_codes.count()"
   ]
  },
  {
   "cell_type": "markdown",
   "id": "negative-helena",
   "metadata": {},
   "source": [
    "**F)** Elimina los registros que no tengas un ”zip Code” válido, es decir contenga letras\n",
    "en los valores."
   ]
  },
  {
   "cell_type": "code",
   "execution_count": 127,
   "id": "guided-validity",
   "metadata": {},
   "outputs": [],
   "source": [
    "# Usamos drop con el parametro inplace que altere nuestro df\n",
    "df.drop(invalid_zip_codes.index, inplace=True)"
   ]
  },
  {
   "cell_type": "code",
   "execution_count": 128,
   "id": "known-rogers",
   "metadata": {},
   "outputs": [
    {
     "data": {
      "text/html": [
       "<div>\n",
       "<style scoped>\n",
       "    .dataframe tbody tr th:only-of-type {\n",
       "        vertical-align: middle;\n",
       "    }\n",
       "\n",
       "    .dataframe tbody tr th {\n",
       "        vertical-align: top;\n",
       "    }\n",
       "\n",
       "    .dataframe thead th {\n",
       "        text-align: right;\n",
       "    }\n",
       "</style>\n",
       "<table border=\"1\" class=\"dataframe\">\n",
       "  <thead>\n",
       "    <tr style=\"text-align: right;\">\n",
       "      <th></th>\n",
       "      <th>c_acousticness</th>\n",
       "      <th>t_artists</th>\n",
       "      <th>c_danceability</th>\n",
       "      <th>d_duration_ms</th>\n",
       "      <th>c_energy</th>\n",
       "      <th>t_id</th>\n",
       "      <th>c_instrumentalness</th>\n",
       "      <th>c_liveness</th>\n",
       "      <th>c_loudness</th>\n",
       "      <th>v_mode</th>\n",
       "      <th>t_name</th>\n",
       "      <th>c_popularity</th>\n",
       "      <th>d_release_date</th>\n",
       "      <th>c_speechiness</th>\n",
       "      <th>c_tempo</th>\n",
       "      <th>c_valence</th>\n",
       "      <th>t_zip Code</th>\n",
       "      <th>v_genero</th>\n",
       "    </tr>\n",
       "  </thead>\n",
       "  <tbody>\n",
       "    <tr>\n",
       "      <th>24</th>\n",
       "      <td>0.000331</td>\n",
       "      <td>['Slayer']</td>\n",
       "      <td>0.296</td>\n",
       "      <td>400093</td>\n",
       "      <td>0.918</td>\n",
       "      <td>0dt3XQL7LjTNyizTXY00yD</td>\n",
       "      <td>0.178000</td>\n",
       "      <td>0.2530</td>\n",
       "      <td>-8.360</td>\n",
       "      <td>1</td>\n",
       "      <td>Crypts of Eternity</td>\n",
       "      <td>33.0</td>\n",
       "      <td>1985-05-26 00:00:00</td>\n",
       "      <td>0.0693</td>\n",
       "      <td>101.916</td>\n",
       "      <td>0.137</td>\n",
       "      <td>13126</td>\n",
       "      <td>NaN</td>\n",
       "    </tr>\n",
       "    <tr>\n",
       "      <th>25</th>\n",
       "      <td>0.329000</td>\n",
       "      <td>['Miguel Mateos - Zas']</td>\n",
       "      <td>0.548</td>\n",
       "      <td>290640</td>\n",
       "      <td>0.968</td>\n",
       "      <td>096vJncZZrwi4lLUoggD9y</td>\n",
       "      <td>0.172000</td>\n",
       "      <td>0.0759</td>\n",
       "      <td>-7.038</td>\n",
       "      <td>0</td>\n",
       "      <td>Mi Sombra En la Pared</td>\n",
       "      <td>45.0</td>\n",
       "      <td>1986-10-02 00:00:00</td>\n",
       "      <td>0.0778</td>\n",
       "      <td>174.593</td>\n",
       "      <td>0.786</td>\n",
       "      <td>14223</td>\n",
       "      <td>NaN</td>\n",
       "    </tr>\n",
       "    <tr>\n",
       "      <th>26</th>\n",
       "      <td>0.004680</td>\n",
       "      <td>['Paula Abdul']</td>\n",
       "      <td>0.731</td>\n",
       "      <td>231921</td>\n",
       "      <td>0.779</td>\n",
       "      <td>7xHYQboEmdZXWuXpJf9h30</td>\n",
       "      <td>0.001340</td>\n",
       "      <td>0.0525</td>\n",
       "      <td>-9.126</td>\n",
       "      <td>0</td>\n",
       "      <td>Knocked Out</td>\n",
       "      <td>32.0</td>\n",
       "      <td>1988-08-15 00:00:00</td>\n",
       "      <td>0.0454</td>\n",
       "      <td>116.233</td>\n",
       "      <td>0.954</td>\n",
       "      <td>84620</td>\n",
       "      <td>NaN</td>\n",
       "    </tr>\n",
       "    <tr>\n",
       "      <th>27</th>\n",
       "      <td>0.742000</td>\n",
       "      <td>['Henry Fiol']</td>\n",
       "      <td>0.708</td>\n",
       "      <td>305058</td>\n",
       "      <td>0.629</td>\n",
       "      <td>6M5z2Pca6OuN4l5n5kId3E</td>\n",
       "      <td>0.000003</td>\n",
       "      <td>0.0858</td>\n",
       "      <td>-10.358</td>\n",
       "      <td>0</td>\n",
       "      <td>Zumbale</td>\n",
       "      <td>46.0</td>\n",
       "      <td>1991-04-16 00:00:00</td>\n",
       "      <td>0.0351</td>\n",
       "      <td>95.451</td>\n",
       "      <td>0.915</td>\n",
       "      <td>22824</td>\n",
       "      <td>NaN</td>\n",
       "    </tr>\n",
       "    <tr>\n",
       "      <th>28</th>\n",
       "      <td>0.742000</td>\n",
       "      <td>['Eric Clapton']</td>\n",
       "      <td>0.598</td>\n",
       "      <td>216800</td>\n",
       "      <td>0.219</td>\n",
       "      <td>5tdEWfBGNX7a7zD78tUwLZ</td>\n",
       "      <td>0.056900</td>\n",
       "      <td>0.8790</td>\n",
       "      <td>-15.048</td>\n",
       "      <td>0</td>\n",
       "      <td>Walkin' Blues - Acoustic; Live at MTV Unplugge...</td>\n",
       "      <td>45.0</td>\n",
       "      <td>1992-08-15 00:00:00</td>\n",
       "      <td>0.0476</td>\n",
       "      <td>85.330</td>\n",
       "      <td>0.415</td>\n",
       "      <td>27519</td>\n",
       "      <td>NaN</td>\n",
       "    </tr>\n",
       "  </tbody>\n",
       "</table>\n",
       "</div>"
      ],
      "text/plain": [
       "    c_acousticness                t_artists  c_danceability  d_duration_ms  \\\n",
       "24        0.000331               ['Slayer']           0.296         400093   \n",
       "25        0.329000  ['Miguel Mateos - Zas']           0.548         290640   \n",
       "26        0.004680          ['Paula Abdul']           0.731         231921   \n",
       "27        0.742000           ['Henry Fiol']           0.708         305058   \n",
       "28        0.742000         ['Eric Clapton']           0.598         216800   \n",
       "\n",
       "    c_energy                    t_id  c_instrumentalness  c_liveness  \\\n",
       "24     0.918  0dt3XQL7LjTNyizTXY00yD            0.178000      0.2530   \n",
       "25     0.968  096vJncZZrwi4lLUoggD9y            0.172000      0.0759   \n",
       "26     0.779  7xHYQboEmdZXWuXpJf9h30            0.001340      0.0525   \n",
       "27     0.629  6M5z2Pca6OuN4l5n5kId3E            0.000003      0.0858   \n",
       "28     0.219  5tdEWfBGNX7a7zD78tUwLZ            0.056900      0.8790   \n",
       "\n",
       "    c_loudness  v_mode                                             t_name  \\\n",
       "24      -8.360       1                                 Crypts of Eternity   \n",
       "25      -7.038       0                              Mi Sombra En la Pared   \n",
       "26      -9.126       0                                        Knocked Out   \n",
       "27     -10.358       0                                            Zumbale   \n",
       "28     -15.048       0  Walkin' Blues - Acoustic; Live at MTV Unplugge...   \n",
       "\n",
       "    c_popularity       d_release_date  c_speechiness  c_tempo  c_valence  \\\n",
       "24          33.0  1985-05-26 00:00:00         0.0693  101.916      0.137   \n",
       "25          45.0  1986-10-02 00:00:00         0.0778  174.593      0.786   \n",
       "26          32.0  1988-08-15 00:00:00         0.0454  116.233      0.954   \n",
       "27          46.0  1991-04-16 00:00:00         0.0351   95.451      0.915   \n",
       "28          45.0  1992-08-15 00:00:00         0.0476   85.330      0.415   \n",
       "\n",
       "   t_zip Code v_genero  \n",
       "24      13126      NaN  \n",
       "25      14223      NaN  \n",
       "26      84620      NaN  \n",
       "27      22824      NaN  \n",
       "28      27519      NaN  "
      ]
     },
     "execution_count": 128,
     "metadata": {},
     "output_type": "execute_result"
    }
   ],
   "source": [
    "# Revisamos df\n",
    "df.head()"
   ]
  },
  {
   "cell_type": "code",
   "execution_count": 129,
   "id": "religious-muscle",
   "metadata": {},
   "outputs": [],
   "source": [
    "# Reseteamos index\n",
    "df.reset_index(drop=True, inplace=True)"
   ]
  },
  {
   "cell_type": "markdown",
   "id": "rental-secretariat",
   "metadata": {},
   "source": [
    "**G)**¿Cuántos de los registros en la variable ”genero” son valores no validos? , es decir, contienen letras."
   ]
  },
  {
   "cell_type": "code",
   "execution_count": 130,
   "id": "violent-sweet",
   "metadata": {},
   "outputs": [
    {
     "data": {
      "text/plain": [
       "10"
      ]
     },
     "execution_count": 130,
     "metadata": {},
     "output_type": "execute_result"
    }
   ],
   "source": [
    "# Usamos str.contains nuevamente para excluir registros con letras.\n",
    "invalid_genre = df[df[\"v_genero\"].str.contains('(?:^[^\\d])|(?:[a-zA-Z])', na=False)][\"v_genero\"]\n",
    "invalid_genre.count()"
   ]
  },
  {
   "cell_type": "markdown",
   "id": "blond-uniform",
   "metadata": {},
   "source": [
    "**H)** Elimina los registros que no tengas un ”genero” válido, es decir contenga letras en\n",
    "los valores."
   ]
  },
  {
   "cell_type": "code",
   "execution_count": 131,
   "id": "excess-phenomenon",
   "metadata": {},
   "outputs": [],
   "source": [
    "# Eliminamos con parametro inplace=True\n",
    "df.drop(invalid_genre.index, inplace=True)"
   ]
  },
  {
   "cell_type": "code",
   "execution_count": 132,
   "id": "excessive-aluminum",
   "metadata": {},
   "outputs": [],
   "source": [
    "#Reseteamos index\n",
    "df.reset_index(drop=True, inplace=True)"
   ]
  },
  {
   "cell_type": "markdown",
   "id": "working-affiliation",
   "metadata": {},
   "source": [
    "**I)** Haz una limpieza de la variable ”name” , elimina caracteres especiales y todo debe\n",
    "estar en minúsculas"
   ]
  },
  {
   "cell_type": "code",
   "execution_count": 133,
   "id": "regulated-blackberry",
   "metadata": {},
   "outputs": [],
   "source": [
    "# Usamos función definida en clase\n",
    "def clean_text(text, pattern=\"[^a-zA-Z0-9 ]\"):\n",
    "    \"\"\"Cleans the text to facilitate its analysis, it changes accented letters to its quivalent without accents, removes also special characters\n",
    "\n",
    "    Parameters\n",
    "    ----------\n",
    "    text : string\n",
    "        String containing text\n",
    "    pattern : str, optional\n",
    "        Regular expession for keeping in the string, by default ``[^a-zA-Z0-9 ]``\n",
    "\n",
    "    Returns\n",
    "    -------\n",
    "    cleaned_text : string\n",
    "        Cleaned string\n",
    "\n",
    "    Example\n",
    "    -------\n",
    "    >>> clean_text('¡Feliz año nuevo, México!')\n",
    "    >>> u'feliz ano nuevo mexico'\n",
    "    \"\"\"\n",
    "    cleaned_text = unicodedata.normalize('NFD', text).encode('ascii', 'ignore')\n",
    "    cleaned_text = re.sub(pattern, \" \", cleaned_text.decode(\"utf-8\"), flags=re.UNICODE)\n",
    "    cleaned_text = u' '.join(cleaned_text.lower().strip().split())\n",
    "    return cleaned_text"
   ]
  },
  {
   "cell_type": "code",
   "execution_count": 134,
   "id": "signal-empty",
   "metadata": {},
   "outputs": [],
   "source": [
    "# Aplicamos la función a cada registro con lambda:\n",
    "df[\"t_name\"] = df[\"t_name\"].map(lambda x:clean_text(x).replace(\"\\n\", \"\"))"
   ]
  },
  {
   "cell_type": "markdown",
   "id": "broadband-panic",
   "metadata": {},
   "source": [
    "**J)** De la variable ”artist” selecciona solo al primer artista que aparezca en la lista\n",
    "además de eliminar caracteres especiales."
   ]
  },
  {
   "cell_type": "code",
   "execution_count": 135,
   "id": "indonesian-debut",
   "metadata": {},
   "outputs": [
    {
     "data": {
      "text/plain": [
       "0    ['Slayer']\n",
       "Name: t_artists, dtype: object"
      ]
     },
     "execution_count": 135,
     "metadata": {},
     "output_type": "execute_result"
    }
   ],
   "source": [
    "df[\"t_artists\"][[0]]"
   ]
  },
  {
   "cell_type": "code",
   "execution_count": 136,
   "id": "possible-schedule",
   "metadata": {},
   "outputs": [],
   "source": [
    "# Ssamos la función previamente definida de clean_text junto \n",
    "# con una lambda\n",
    "df[\"t_artists\"] = df[\"t_artists\"].map(lambda x:clean_text(x).replace(\"\\n\", \"\"))"
   ]
  },
  {
   "cell_type": "code",
   "execution_count": 137,
   "id": "bacterial-driving",
   "metadata": {},
   "outputs": [
    {
     "data": {
      "text/plain": [
       "0    slayer\n",
       "Name: t_artists, dtype: object"
      ]
     },
     "execution_count": 137,
     "metadata": {},
     "output_type": "execute_result"
    }
   ],
   "source": [
    "# Comprobamos la limpiexa del string\n",
    "df[\"t_artists\"][[0]]"
   ]
  },
  {
   "cell_type": "markdown",
   "id": "proved-liabilities",
   "metadata": {},
   "source": [
    "**K)** Normaliza la variable ”genero” de tal forma que obtengas solo 8 categorı́as"
   ]
  },
  {
   "cell_type": "code",
   "execution_count": 138,
   "id": "prospective-detroit",
   "metadata": {},
   "outputs": [
    {
     "data": {
      "text/plain": [
       "47.0    27167\n",
       "20.0    24855\n",
       "50.0    20144\n",
       "12.0    18301\n",
       "16.0    18054\n",
       "21.0    17829\n",
       "47.0     5812\n",
       "20.0     5398\n",
       "50.0     4247\n",
       "21.0     3899\n",
       "16.0     3843\n",
       "12.0     3774\n",
       "30.0     2653\n",
       "49.0     2627\n",
       "48.0     2565\n",
       "30.0      579\n",
       "49.0      566\n",
       "48.0      551\n",
       "3.0       448\n",
       "2.0       285\n",
       "1.0       147\n",
       "3.0        84\n",
       "2.0        65\n",
       "1.0        23\n",
       "Name: v_genero, dtype: int64"
      ]
     },
     "execution_count": 138,
     "metadata": {},
     "output_type": "execute_result"
    }
   ],
   "source": [
    "df[\"v_genero\"].value_counts()"
   ]
  },
  {
   "cell_type": "code",
   "execution_count": 139,
   "id": "great-puppy",
   "metadata": {},
   "outputs": [
    {
     "data": {
      "text/plain": [
       "47.0    32979\n",
       "20.0    30253\n",
       "50.0    24391\n",
       "12.0    22075\n",
       "16.0    21897\n",
       "21.0    21728\n",
       "30.0     3232\n",
       "49.0     3193\n",
       "48.0     3116\n",
       "3.0       532\n",
       "2.0       350\n",
       "1.0       170\n",
       "Name: v_genero, dtype: int64"
      ]
     },
     "execution_count": 139,
     "metadata": {},
     "output_type": "execute_result"
    }
   ],
   "source": [
    "# Una primera forma para reducir las categorías de la columna,\n",
    "# es pasando todos los registros al mismo tipo de dato: float\n",
    "df[\"v_genero\"] = df[\"v_genero\"].map(float)\n",
    "df[\"v_genero\"].value_counts()"
   ]
  },
  {
   "cell_type": "code",
   "execution_count": 140,
   "id": "entitled-davis",
   "metadata": {},
   "outputs": [
    {
     "name": "stdout",
     "output_type": "stream",
     "text": [
      "3.0\n",
      "<class 'float'>\n",
      "2.0\n",
      "<class 'float'>\n",
      "1.0\n",
      "<class 'float'>\n"
     ]
    }
   ],
   "source": [
    "# Observamos 12 categorías. Juntaremos las 3 categorías con menos \n",
    "# frerecuencia en \"otros\" para reducir las categorías totales.\n",
    "# Sin embargo, para que la categoría de \"otros\" siga siendo la de menor \n",
    "# frecuencia, no incluiremos el 4to genero de menor frecuencia.\n",
    "# Para conservar que los generos sólo sean numéricos, definimos 99.0\n",
    "# Como nuestra categoría \"otros\"\n",
    "for i in df[\"v_genero\"].value_counts().index[-3:]:\n",
    "    print(i)\n",
    "    print(type(i))\n",
    "    df[\"v_genero\"].replace({i:'99.0'}, inplace=True)"
   ]
  },
  {
   "cell_type": "code",
   "execution_count": 141,
   "id": "activated-wallet",
   "metadata": {},
   "outputs": [
    {
     "data": {
      "text/plain": [
       "47.0    32979\n",
       "20.0    30253\n",
       "50.0    24391\n",
       "12.0    22075\n",
       "16.0    21897\n",
       "21.0    21728\n",
       "30.0     3232\n",
       "49.0     3193\n",
       "48.0     3116\n",
       "99.0     1052\n",
       "Name: v_genero, dtype: int64"
      ]
     },
     "execution_count": 141,
     "metadata": {},
     "output_type": "execute_result"
    }
   ],
   "source": [
    "df[\"v_genero\"].value_counts()"
   ]
  },
  {
   "cell_type": "markdown",
   "id": "opponent-kitchen",
   "metadata": {},
   "source": [
    "**L)** Añade las siguientes columnas a tu tabla base: zip, lat, lng, city, state name uti-\n",
    "lizando la tabla zips practica."
   ]
  },
  {
   "cell_type": "code",
   "execution_count": 143,
   "id": "opponent-worry",
   "metadata": {},
   "outputs": [],
   "source": [
    "zips = pd.read_csv(\"zips_practica.csv\")"
   ]
  },
  {
   "cell_type": "code",
   "execution_count": 144,
   "id": "latin-occasion",
   "metadata": {},
   "outputs": [],
   "source": [
    "# Hacemos el merge sobre el zip code, con un LEFT JOINT\n",
    "df = df.merge(zips, left_on=\"t_zip Code\", right_on=\"zip\", how=\"left\")"
   ]
  },
  {
   "cell_type": "code",
   "execution_count": 146,
   "id": "impaired-machinery",
   "metadata": {},
   "outputs": [
    {
     "data": {
      "text/html": [
       "<div>\n",
       "<style scoped>\n",
       "    .dataframe tbody tr th:only-of-type {\n",
       "        vertical-align: middle;\n",
       "    }\n",
       "\n",
       "    .dataframe tbody tr th {\n",
       "        vertical-align: top;\n",
       "    }\n",
       "\n",
       "    .dataframe thead th {\n",
       "        text-align: right;\n",
       "    }\n",
       "</style>\n",
       "<table border=\"1\" class=\"dataframe\">\n",
       "  <thead>\n",
       "    <tr style=\"text-align: right;\">\n",
       "      <th></th>\n",
       "      <th>c_acousticness</th>\n",
       "      <th>t_artists</th>\n",
       "      <th>c_danceability</th>\n",
       "      <th>d_duration_ms</th>\n",
       "      <th>c_energy</th>\n",
       "      <th>t_id</th>\n",
       "      <th>c_instrumentalness</th>\n",
       "      <th>c_liveness</th>\n",
       "      <th>c_loudness</th>\n",
       "      <th>v_mode</th>\n",
       "      <th>...</th>\n",
       "      <th>density</th>\n",
       "      <th>county_fips</th>\n",
       "      <th>county_name</th>\n",
       "      <th>county_weights</th>\n",
       "      <th>county_names_all</th>\n",
       "      <th>county_fips_all</th>\n",
       "      <th>imprecise</th>\n",
       "      <th>military</th>\n",
       "      <th>timezone</th>\n",
       "      <th>c_lng</th>\n",
       "    </tr>\n",
       "  </thead>\n",
       "  <tbody>\n",
       "    <tr>\n",
       "      <th>30483</th>\n",
       "      <td>0.78900</td>\n",
       "      <td>little jimmy dickens</td>\n",
       "      <td>0.471</td>\n",
       "      <td>150640</td>\n",
       "      <td>0.887000</td>\n",
       "      <td>5rgeemSaa9yETCkuoHrfLH</td>\n",
       "      <td>0.000345</td>\n",
       "      <td>0.2660</td>\n",
       "      <td>-3.734</td>\n",
       "      <td>1</td>\n",
       "      <td>...</td>\n",
       "      <td>6.9</td>\n",
       "      <td>5023.0</td>\n",
       "      <td>Cleburne</td>\n",
       "      <td>{'05023':92.4,'05137':7.6}</td>\n",
       "      <td>Cleburne|Stone</td>\n",
       "      <td>05023|05137</td>\n",
       "      <td>False</td>\n",
       "      <td>False</td>\n",
       "      <td>America/Chicago</td>\n",
       "      <td>NaN</td>\n",
       "    </tr>\n",
       "    <tr>\n",
       "      <th>30484</th>\n",
       "      <td>0.99500</td>\n",
       "      <td>sonny clark</td>\n",
       "      <td>0.405</td>\n",
       "      <td>316893</td>\n",
       "      <td>0.195000</td>\n",
       "      <td>5rhqW8QJogXTGWi4DEap3Y</td>\n",
       "      <td>0.668000</td>\n",
       "      <td>0.3640</td>\n",
       "      <td>-23.019</td>\n",
       "      <td>1</td>\n",
       "      <td>...</td>\n",
       "      <td>160.2</td>\n",
       "      <td>36091.0</td>\n",
       "      <td>Saratoga</td>\n",
       "      <td>{'36091':100}</td>\n",
       "      <td>Saratoga</td>\n",
       "      <td>36091</td>\n",
       "      <td>False</td>\n",
       "      <td>False</td>\n",
       "      <td>America/New_York</td>\n",
       "      <td>NaN</td>\n",
       "    </tr>\n",
       "    <tr>\n",
       "      <th>30485</th>\n",
       "      <td>0.97700</td>\n",
       "      <td>julius larosa</td>\n",
       "      <td>0.436</td>\n",
       "      <td>165253</td>\n",
       "      <td>0.004580</td>\n",
       "      <td>5ubalnFpVACOrtetnZiFKO</td>\n",
       "      <td>0.000006</td>\n",
       "      <td>0.1060</td>\n",
       "      <td>-26.393</td>\n",
       "      <td>1</td>\n",
       "      <td>...</td>\n",
       "      <td>331.5</td>\n",
       "      <td>22083.0</td>\n",
       "      <td>Richland</td>\n",
       "      <td>{'22083':100}</td>\n",
       "      <td>Richland</td>\n",
       "      <td>22083</td>\n",
       "      <td>False</td>\n",
       "      <td>False</td>\n",
       "      <td>America/Chicago</td>\n",
       "      <td>NaN</td>\n",
       "    </tr>\n",
       "    <tr>\n",
       "      <th>30486</th>\n",
       "      <td>0.83900</td>\n",
       "      <td>xavier cugat his orchestra</td>\n",
       "      <td>0.758</td>\n",
       "      <td>162933</td>\n",
       "      <td>0.548000</td>\n",
       "      <td>5urIfyjGu6S2JVMY4pa6Yr</td>\n",
       "      <td>0.895000</td>\n",
       "      <td>0.3980</td>\n",
       "      <td>-11.589</td>\n",
       "      <td>0</td>\n",
       "      <td>...</td>\n",
       "      <td>4.0</td>\n",
       "      <td>19151.0</td>\n",
       "      <td>Pocahontas</td>\n",
       "      <td>{'19147':2.71,'19151':97.29}</td>\n",
       "      <td>Pocahontas|Palo Alto</td>\n",
       "      <td>19151|19147</td>\n",
       "      <td>False</td>\n",
       "      <td>False</td>\n",
       "      <td>America/Chicago</td>\n",
       "      <td>NaN</td>\n",
       "    </tr>\n",
       "    <tr>\n",
       "      <th>30487</th>\n",
       "      <td>0.83600</td>\n",
       "      <td>charles mingus john laporta</td>\n",
       "      <td>0.274</td>\n",
       "      <td>195200</td>\n",
       "      <td>0.178000</td>\n",
       "      <td>5xc4Wm7b5Hrl4fACGs1ZWv</td>\n",
       "      <td>0.920000</td>\n",
       "      <td>0.1090</td>\n",
       "      <td>-11.946</td>\n",
       "      <td>0</td>\n",
       "      <td>...</td>\n",
       "      <td>2.1</td>\n",
       "      <td>27149.0</td>\n",
       "      <td>Stevens</td>\n",
       "      <td>{'27149':97.21,'27151':2.79}</td>\n",
       "      <td>Stevens|Swift</td>\n",
       "      <td>27149|27151</td>\n",
       "      <td>False</td>\n",
       "      <td>False</td>\n",
       "      <td>America/Chicago</td>\n",
       "      <td>NaN</td>\n",
       "    </tr>\n",
       "    <tr>\n",
       "      <th>...</th>\n",
       "      <td>...</td>\n",
       "      <td>...</td>\n",
       "      <td>...</td>\n",
       "      <td>...</td>\n",
       "      <td>...</td>\n",
       "      <td>...</td>\n",
       "      <td>...</td>\n",
       "      <td>...</td>\n",
       "      <td>...</td>\n",
       "      <td>...</td>\n",
       "      <td>...</td>\n",
       "      <td>...</td>\n",
       "      <td>...</td>\n",
       "      <td>...</td>\n",
       "      <td>...</td>\n",
       "      <td>...</td>\n",
       "      <td>...</td>\n",
       "      <td>...</td>\n",
       "      <td>...</td>\n",
       "      <td>...</td>\n",
       "      <td>...</td>\n",
       "    </tr>\n",
       "    <tr>\n",
       "      <th>161550</th>\n",
       "      <td>0.00766</td>\n",
       "      <td>cock sparrer</td>\n",
       "      <td>0.307</td>\n",
       "      <td>177893</td>\n",
       "      <td>0.895000</td>\n",
       "      <td>1MG6dTIs1niCx6wJCS9YiP</td>\n",
       "      <td>0.000000</td>\n",
       "      <td>0.0317</td>\n",
       "      <td>-4.745</td>\n",
       "      <td>1</td>\n",
       "      <td>...</td>\n",
       "      <td>15.4</td>\n",
       "      <td>29097.0</td>\n",
       "      <td>Jasper</td>\n",
       "      <td>{'29097':81.93,'29109':5.15,'29145':12.92}</td>\n",
       "      <td>Jasper|Lawrence|Newton</td>\n",
       "      <td>29097|29109|29145</td>\n",
       "      <td>False</td>\n",
       "      <td>False</td>\n",
       "      <td>America/Chicago</td>\n",
       "      <td>NaN</td>\n",
       "    </tr>\n",
       "    <tr>\n",
       "      <th>161551</th>\n",
       "      <td>0.29300</td>\n",
       "      <td>bad brains</td>\n",
       "      <td>0.420</td>\n",
       "      <td>45000</td>\n",
       "      <td>0.000281</td>\n",
       "      <td>2825UQ58tG56ozABVD8bwf</td>\n",
       "      <td>0.442000</td>\n",
       "      <td>0.7490</td>\n",
       "      <td>-15.637</td>\n",
       "      <td>1</td>\n",
       "      <td>...</td>\n",
       "      <td>69.6</td>\n",
       "      <td>36051.0</td>\n",
       "      <td>Livingston</td>\n",
       "      <td>{'36051':93.99,'36069':6.01}</td>\n",
       "      <td>Livingston|Ontario</td>\n",
       "      <td>36051|36069</td>\n",
       "      <td>False</td>\n",
       "      <td>False</td>\n",
       "      <td>America/New_York</td>\n",
       "      <td>NaN</td>\n",
       "    </tr>\n",
       "    <tr>\n",
       "      <th>161552</th>\n",
       "      <td>0.01580</td>\n",
       "      <td>talking heads</td>\n",
       "      <td>0.570</td>\n",
       "      <td>504840</td>\n",
       "      <td>0.897000</td>\n",
       "      <td>7tZDm498uu16woGTlK1V4p</td>\n",
       "      <td>0.013700</td>\n",
       "      <td>0.8550</td>\n",
       "      <td>-6.692</td>\n",
       "      <td>0</td>\n",
       "      <td>...</td>\n",
       "      <td>21.7</td>\n",
       "      <td>51027.0</td>\n",
       "      <td>Buchanan</td>\n",
       "      <td>{'51027':100}</td>\n",
       "      <td>Buchanan</td>\n",
       "      <td>51027</td>\n",
       "      <td>False</td>\n",
       "      <td>False</td>\n",
       "      <td>America/New_York</td>\n",
       "      <td>NaN</td>\n",
       "    </tr>\n",
       "    <tr>\n",
       "      <th>161553</th>\n",
       "      <td>0.07230</td>\n",
       "      <td>hank williams jr</td>\n",
       "      <td>0.617</td>\n",
       "      <td>156107</td>\n",
       "      <td>0.752000</td>\n",
       "      <td>1dh1DBjWKUSTtycdn5kJwo</td>\n",
       "      <td>0.000007</td>\n",
       "      <td>0.2020</td>\n",
       "      <td>-5.667</td>\n",
       "      <td>1</td>\n",
       "      <td>...</td>\n",
       "      <td>104.1</td>\n",
       "      <td>13313.0</td>\n",
       "      <td>Whitfield</td>\n",
       "      <td>{'13047':37.9,'13313':62.1}</td>\n",
       "      <td>Whitfield|Catoosa</td>\n",
       "      <td>13313|13047</td>\n",
       "      <td>False</td>\n",
       "      <td>False</td>\n",
       "      <td>America/New_York</td>\n",
       "      <td>NaN</td>\n",
       "    </tr>\n",
       "    <tr>\n",
       "      <th>161554</th>\n",
       "      <td>0.07730</td>\n",
       "      <td>billy joel</td>\n",
       "      <td>0.574</td>\n",
       "      <td>303200</td>\n",
       "      <td>0.505000</td>\n",
       "      <td>2Fc9jmFniXl9I26VCHIOoL</td>\n",
       "      <td>0.000000</td>\n",
       "      <td>0.0864</td>\n",
       "      <td>-9.323</td>\n",
       "      <td>1</td>\n",
       "      <td>...</td>\n",
       "      <td>13.1</td>\n",
       "      <td>6089.0</td>\n",
       "      <td>Shasta</td>\n",
       "      <td>{'06089':100}</td>\n",
       "      <td>Shasta</td>\n",
       "      <td>06089</td>\n",
       "      <td>False</td>\n",
       "      <td>False</td>\n",
       "      <td>America/Los_Angeles</td>\n",
       "      <td>NaN</td>\n",
       "    </tr>\n",
       "  </tbody>\n",
       "</table>\n",
       "<p>131072 rows × 37 columns</p>\n",
       "</div>"
      ],
      "text/plain": [
       "        c_acousticness                    t_artists  c_danceability  \\\n",
       "30483          0.78900         little jimmy dickens           0.471   \n",
       "30484          0.99500                  sonny clark           0.405   \n",
       "30485          0.97700                julius larosa           0.436   \n",
       "30486          0.83900   xavier cugat his orchestra           0.758   \n",
       "30487          0.83600  charles mingus john laporta           0.274   \n",
       "...                ...                          ...             ...   \n",
       "161550         0.00766                 cock sparrer           0.307   \n",
       "161551         0.29300                   bad brains           0.420   \n",
       "161552         0.01580                talking heads           0.570   \n",
       "161553         0.07230             hank williams jr           0.617   \n",
       "161554         0.07730                   billy joel           0.574   \n",
       "\n",
       "        d_duration_ms  c_energy                    t_id  c_instrumentalness  \\\n",
       "30483          150640  0.887000  5rgeemSaa9yETCkuoHrfLH            0.000345   \n",
       "30484          316893  0.195000  5rhqW8QJogXTGWi4DEap3Y            0.668000   \n",
       "30485          165253  0.004580  5ubalnFpVACOrtetnZiFKO            0.000006   \n",
       "30486          162933  0.548000  5urIfyjGu6S2JVMY4pa6Yr            0.895000   \n",
       "30487          195200  0.178000  5xc4Wm7b5Hrl4fACGs1ZWv            0.920000   \n",
       "...               ...       ...                     ...                 ...   \n",
       "161550         177893  0.895000  1MG6dTIs1niCx6wJCS9YiP            0.000000   \n",
       "161551          45000  0.000281  2825UQ58tG56ozABVD8bwf            0.442000   \n",
       "161552         504840  0.897000  7tZDm498uu16woGTlK1V4p            0.013700   \n",
       "161553         156107  0.752000  1dh1DBjWKUSTtycdn5kJwo            0.000007   \n",
       "161554         303200  0.505000  2Fc9jmFniXl9I26VCHIOoL            0.000000   \n",
       "\n",
       "        c_liveness  c_loudness  v_mode  ... density  county_fips county_name  \\\n",
       "30483       0.2660      -3.734       1  ...     6.9       5023.0    Cleburne   \n",
       "30484       0.3640     -23.019       1  ...   160.2      36091.0    Saratoga   \n",
       "30485       0.1060     -26.393       1  ...   331.5      22083.0    Richland   \n",
       "30486       0.3980     -11.589       0  ...     4.0      19151.0  Pocahontas   \n",
       "30487       0.1090     -11.946       0  ...     2.1      27149.0     Stevens   \n",
       "...            ...         ...     ...  ...     ...          ...         ...   \n",
       "161550      0.0317      -4.745       1  ...    15.4      29097.0      Jasper   \n",
       "161551      0.7490     -15.637       1  ...    69.6      36051.0  Livingston   \n",
       "161552      0.8550      -6.692       0  ...    21.7      51027.0    Buchanan   \n",
       "161553      0.2020      -5.667       1  ...   104.1      13313.0   Whitfield   \n",
       "161554      0.0864      -9.323       1  ...    13.1       6089.0      Shasta   \n",
       "\n",
       "                                    county_weights        county_names_all  \\\n",
       "30483                   {'05023':92.4,'05137':7.6}          Cleburne|Stone   \n",
       "30484                                {'36091':100}                Saratoga   \n",
       "30485                                {'22083':100}                Richland   \n",
       "30486                 {'19147':2.71,'19151':97.29}    Pocahontas|Palo Alto   \n",
       "30487                 {'27149':97.21,'27151':2.79}           Stevens|Swift   \n",
       "...                                            ...                     ...   \n",
       "161550  {'29097':81.93,'29109':5.15,'29145':12.92}  Jasper|Lawrence|Newton   \n",
       "161551                {'36051':93.99,'36069':6.01}      Livingston|Ontario   \n",
       "161552                               {'51027':100}                Buchanan   \n",
       "161553                 {'13047':37.9,'13313':62.1}       Whitfield|Catoosa   \n",
       "161554                               {'06089':100}                  Shasta   \n",
       "\n",
       "          county_fips_all imprecise military             timezone  c_lng  \n",
       "30483         05023|05137     False    False      America/Chicago    NaN  \n",
       "30484               36091     False    False     America/New_York    NaN  \n",
       "30485               22083     False    False      America/Chicago    NaN  \n",
       "30486         19151|19147     False    False      America/Chicago    NaN  \n",
       "30487         27149|27151     False    False      America/Chicago    NaN  \n",
       "...                   ...       ...      ...                  ...    ...  \n",
       "161550  29097|29109|29145     False    False      America/Chicago    NaN  \n",
       "161551        36051|36069     False    False     America/New_York    NaN  \n",
       "161552              51027     False    False     America/New_York    NaN  \n",
       "161553        13313|13047     False    False     America/New_York    NaN  \n",
       "161554              06089     False    False  America/Los_Angeles    NaN  \n",
       "\n",
       "[131072 rows x 37 columns]"
      ]
     },
     "execution_count": 146,
     "metadata": {},
     "output_type": "execute_result"
    }
   ],
   "source": [
    "# comprobando el merge en registros cuyo campo city no es nulo\n",
    "df[df[\"city\"].notna()]"
   ]
  },
  {
   "cell_type": "markdown",
   "id": "parallel-cigarette",
   "metadata": {},
   "source": [
    "**M)** Convierte las variables ”lat” y ”lng” en tipo flotante y valida que la información\n",
    "sea consistente."
   ]
  },
  {
   "cell_type": "code",
   "execution_count": 150,
   "id": "respiratory-upgrade",
   "metadata": {},
   "outputs": [
    {
     "data": {
      "text/html": [
       "<div>\n",
       "<style scoped>\n",
       "    .dataframe tbody tr th:only-of-type {\n",
       "        vertical-align: middle;\n",
       "    }\n",
       "\n",
       "    .dataframe tbody tr th {\n",
       "        vertical-align: top;\n",
       "    }\n",
       "\n",
       "    .dataframe thead th {\n",
       "        text-align: right;\n",
       "    }\n",
       "</style>\n",
       "<table border=\"1\" class=\"dataframe\">\n",
       "  <thead>\n",
       "    <tr style=\"text-align: right;\">\n",
       "      <th></th>\n",
       "      <th>lat</th>\n",
       "      <th>lng</th>\n",
       "    </tr>\n",
       "  </thead>\n",
       "  <tbody>\n",
       "    <tr>\n",
       "      <th>30483</th>\n",
       "      <td>35.61819</td>\n",
       "      <td>-91.95341</td>\n",
       "    </tr>\n",
       "    <tr>\n",
       "      <th>30484</th>\n",
       "      <td>43.00248</td>\n",
       "      <td>-73.86800</td>\n",
       "    </tr>\n",
       "    <tr>\n",
       "      <th>30485</th>\n",
       "      <td>32.48731</td>\n",
       "      <td>-91.85714</td>\n",
       "    </tr>\n",
       "    <tr>\n",
       "      <th>30486</th>\n",
       "      <td>42.84799</td>\n",
       "      <td>-94.54307</td>\n",
       "    </tr>\n",
       "    <tr>\n",
       "      <th>30487</th>\n",
       "      <td>45.49685</td>\n",
       "      <td>-96.06945</td>\n",
       "    </tr>\n",
       "    <tr>\n",
       "      <th>...</th>\n",
       "      <td>...</td>\n",
       "      <td>...</td>\n",
       "    </tr>\n",
       "    <tr>\n",
       "      <th>161550</th>\n",
       "      <td>37.09740</td>\n",
       "      <td>-94.11430</td>\n",
       "    </tr>\n",
       "    <tr>\n",
       "      <th>161551</th>\n",
       "      <td>42.81175</td>\n",
       "      <td>-77.63597</td>\n",
       "    </tr>\n",
       "    <tr>\n",
       "      <th>161552</th>\n",
       "      <td>37.21374</td>\n",
       "      <td>-81.99169</td>\n",
       "    </tr>\n",
       "    <tr>\n",
       "      <th>161553</th>\n",
       "      <td>34.86684</td>\n",
       "      <td>-85.04077</td>\n",
       "    </tr>\n",
       "    <tr>\n",
       "      <th>161554</th>\n",
       "      <td>40.71235</td>\n",
       "      <td>-122.10814</td>\n",
       "    </tr>\n",
       "  </tbody>\n",
       "</table>\n",
       "<p>131072 rows × 2 columns</p>\n",
       "</div>"
      ],
      "text/plain": [
       "             lat        lng\n",
       "30483   35.61819  -91.95341\n",
       "30484   43.00248  -73.86800\n",
       "30485   32.48731  -91.85714\n",
       "30486   42.84799  -94.54307\n",
       "30487   45.49685  -96.06945\n",
       "...          ...        ...\n",
       "161550  37.09740  -94.11430\n",
       "161551  42.81175  -77.63597\n",
       "161552  37.21374  -81.99169\n",
       "161553  34.86684  -85.04077\n",
       "161554  40.71235 -122.10814\n",
       "\n",
       "[131072 rows x 2 columns]"
      ]
     },
     "execution_count": 150,
     "metadata": {},
     "output_type": "execute_result"
    }
   ],
   "source": [
    "# Convirtiendo a tipo float\n",
    "df[\"lat\"].astype(float)\n",
    "df[\"lng\"].astype(float)\n",
    "df[df[\"lat\"].notna()][[\"lat\", \"lng\"]]"
   ]
  },
  {
   "cell_type": "code",
   "execution_count": 152,
   "id": "little-penalty",
   "metadata": {},
   "outputs": [
    {
     "data": {
      "text/plain": [
       "count    131072.000000\n",
       "mean         38.850304\n",
       "std           5.337935\n",
       "min          17.966120\n",
       "25%          35.435820\n",
       "50%          39.509060\n",
       "75%          42.129260\n",
       "max          71.273740\n",
       "Name: lat, dtype: float64"
      ]
     },
     "execution_count": 152,
     "metadata": {},
     "output_type": "execute_result"
    }
   ],
   "source": [
    "# Los valores de latitud deben ubicarse dento de los -90 a 90 °.\n",
    "df[\"lat\"].describe()"
   ]
  },
  {
   "cell_type": "markdown",
   "id": "sound-works",
   "metadata": {},
   "source": [
    "Los valores máximos y mínimos de la latitud están dentro del rango esperado."
   ]
  },
  {
   "cell_type": "code",
   "execution_count": 153,
   "id": "otherwise-bikini",
   "metadata": {},
   "outputs": [
    {
     "data": {
      "text/plain": [
       "count    131072.000000\n",
       "mean        -91.155202\n",
       "std          16.076207\n",
       "min        -331.846760\n",
       "25%         -97.265630\n",
       "50%         -88.212620\n",
       "75%         -80.200890\n",
       "max         -65.290170\n",
       "Name: lng, dtype: float64"
      ]
     },
     "execution_count": 153,
     "metadata": {},
     "output_type": "execute_result"
    }
   ],
   "source": [
    "# Mientras que los valores de longitud se deben ubicar entre -180 y 180\n",
    "df[\"lng\"].describe()"
   ]
  },
  {
   "cell_type": "markdown",
   "id": "opening-resort",
   "metadata": {},
   "source": [
    "Existen valores de longitud por debajo del límite inferior del rango permitido (-180). Sin embargo, la corrección de dicho valor debe ser algo que requiera de mejores herramientas, ya que el valor erroneo de la longitud parece no tener una relación simple con el valor correcto.\n",
    "  \n",
    "Por ejemplo, la longitud de Black Creek, NY es 3.31 veces mayor a la correcto, mientras que la de Spring Valley, OH es 3.15 veces mayor."
   ]
  },
  {
   "cell_type": "markdown",
   "id": "decimal-wrestling",
   "metadata": {},
   "source": [
    "**N)** De la variable ”city” y ”state” elimina los dı́gitos que se encuentran dentro de las\n",
    "cadenas de texto."
   ]
  },
  {
   "cell_type": "code",
   "execution_count": 155,
   "id": "recent-pattern",
   "metadata": {},
   "outputs": [
    {
     "name": "stderr",
     "output_type": "stream",
     "text": [
      "<ipython-input-155-98b57db62a43>:2: FutureWarning: The default value of regex will change from True to False in a future version.\n",
      "  df[\"city\"] = df[\"city\"].str.replace('\\d+','')\n"
     ]
    }
   ],
   "source": [
    "# Usamos str.replace con una regex\n",
    "df[\"city\"] = df[\"city\"].str.replace('\\d+','')"
   ]
  },
  {
   "cell_type": "code",
   "execution_count": 156,
   "id": "corresponding-judge",
   "metadata": {},
   "outputs": [
    {
     "data": {
      "text/plain": [
       "30483           Drasco\n",
       "30484     Ballston Spa\n",
       "30485            Start\n",
       "30486            Rolfe\n",
       "30487          Alberta\n",
       "              ...     \n",
       "161550        Sarcoxie\n",
       "161551         Livonia\n",
       "161552         Oakwood\n",
       "161553     Tunnel Hill\n",
       "161554     Bella Vista\n",
       "Name: city, Length: 131072, dtype: object"
      ]
     },
     "execution_count": 156,
     "metadata": {},
     "output_type": "execute_result"
    }
   ],
   "source": [
    "# comprobamos\n",
    "df[df[\"city\"].notna()][\"city\"]"
   ]
  },
  {
   "cell_type": "code",
   "execution_count": 160,
   "id": "national-edinburgh",
   "metadata": {},
   "outputs": [
    {
     "name": "stderr",
     "output_type": "stream",
     "text": [
      "<ipython-input-160-b4ae8c2bd480>:1: FutureWarning: The default value of regex will change from True to False in a future version.\n",
      "  df[\"state_name\"] = df[\"state_name\"].str.replace('\\d+','')\n"
     ]
    },
    {
     "data": {
      "text/plain": [
       "30483       Arkansas\n",
       "30484       New York\n",
       "30485      Louisiana\n",
       "30486           Iowa\n",
       "30487      Minnesota\n",
       "             ...    \n",
       "161550      Missouri\n",
       "161551      New York\n",
       "161552      Virginia\n",
       "161553       Georgia\n",
       "161554    California\n",
       "Name: state_name, Length: 131072, dtype: object"
      ]
     },
     "execution_count": 160,
     "metadata": {},
     "output_type": "execute_result"
    }
   ],
   "source": [
    "df[\"state_name\"] = df[\"state_name\"].str.replace('\\d+','')\n",
    "df[df[\"state_name\"].notna()][\"state_name\"]"
   ]
  },
  {
   "cell_type": "markdown",
   "id": "instrumental-antibody",
   "metadata": {},
   "source": [
    "**O)** Crea una nueva variable llamada ”state” que este conformada por ”city”,”state name”."
   ]
  },
  {
   "cell_type": "code",
   "execution_count": 161,
   "id": "demographic-manor",
   "metadata": {},
   "outputs": [],
   "source": [
    "# Usamos str.cat\n",
    "df[\"state\"] = df[\"state_name\"].str.cat(df[\"city\"], sep=' ')"
   ]
  },
  {
   "cell_type": "code",
   "execution_count": 162,
   "id": "finnish-environment",
   "metadata": {},
   "outputs": [
    {
     "data": {
      "text/plain": [
       "30483            Arkansas Drasco\n",
       "30484      New York Ballston Spa\n",
       "30485            Louisiana Start\n",
       "30486                 Iowa Rolfe\n",
       "30487          Minnesota Alberta\n",
       "                   ...          \n",
       "161550         Missouri Sarcoxie\n",
       "161551          New York Livonia\n",
       "161552          Virginia Oakwood\n",
       "161553       Georgia Tunnel Hill\n",
       "161554    California Bella Vista\n",
       "Name: state, Length: 131072, dtype: object"
      ]
     },
     "execution_count": 162,
     "metadata": {},
     "output_type": "execute_result"
    }
   ],
   "source": [
    "# Comprobamos\n",
    "df[df[\"state\"].notna()][\"state\"]"
   ]
  },
  {
   "cell_type": "markdown",
   "id": "color-croatia",
   "metadata": {},
   "source": [
    "**P)** Los valores de la nueva variable ”state” modificalos de cierta forma que todas sean\n",
    "minúsculas y sin acentos."
   ]
  },
  {
   "cell_type": "code",
   "execution_count": 164,
   "id": "crucial-peninsula",
   "metadata": {},
   "outputs": [],
   "source": [
    "# Usamos la función clean_text previamente definida\n",
    "df[\"state\"] = df[df[\"state\"].notna()][\"state\"].map(lambda x:clean_text(x).replace(\"\\n\", \"\"))"
   ]
  },
  {
   "cell_type": "code",
   "execution_count": 165,
   "id": "electronic-prize",
   "metadata": {},
   "outputs": [
    {
     "data": {
      "text/plain": [
       "30483            arkansas drasco\n",
       "30484      new york ballston spa\n",
       "30485            louisiana start\n",
       "30486                 iowa rolfe\n",
       "30487          minnesota alberta\n",
       "                   ...          \n",
       "161550         missouri sarcoxie\n",
       "161551          new york livonia\n",
       "161552          virginia oakwood\n",
       "161553       georgia tunnel hill\n",
       "161554    california bella vista\n",
       "Name: state, Length: 131072, dtype: object"
      ]
     },
     "execution_count": 165,
     "metadata": {},
     "output_type": "execute_result"
    }
   ],
   "source": [
    "df[df[\"state\"].notna()][\"state\"]"
   ]
  },
  {
   "cell_type": "markdown",
   "id": "loving-mayor",
   "metadata": {},
   "source": [
    "**Q)** Convierte los valores en la variable ”release date” a tipo datetime , además haz el\n",
    "conteo de las que no tienen la estructura necesaria para ser convertida en datetime\n",
    "y elimina esos registros."
   ]
  },
  {
   "cell_type": "code",
   "execution_count": 166,
   "id": "convinced-sweet",
   "metadata": {},
   "outputs": [],
   "source": [
    "# Usamos pd.to_date\n",
    "df[\"d_release_date\"] = pd.to_datetime(df[\"d_release_date\"], errors='coerce')"
   ]
  },
  {
   "cell_type": "code",
   "execution_count": 167,
   "id": "spanish-dallas",
   "metadata": {},
   "outputs": [
    {
     "data": {
      "text/plain": [
       "0        1985-05-26\n",
       "1        1986-10-02\n",
       "2        1988-08-15\n",
       "3        1991-04-16\n",
       "4        1992-08-15\n",
       "            ...    \n",
       "165553   1935-01-25\n",
       "165554   1935-02-22\n",
       "165555   1935-09-02\n",
       "165556   1935-07-22\n",
       "165557   1935-07-15\n",
       "Name: d_release_date, Length: 165558, dtype: datetime64[ns]"
      ]
     },
     "execution_count": 167,
     "metadata": {},
     "output_type": "execute_result"
    }
   ],
   "source": [
    "df[\"d_release_date\"] "
   ]
  },
  {
   "cell_type": "code",
   "execution_count": 168,
   "id": "powerful-batman",
   "metadata": {},
   "outputs": [
    {
     "data": {
      "text/plain": [
       "Series([], dtype: int64)"
      ]
     },
     "execution_count": 168,
     "metadata": {},
     "output_type": "execute_result"
    }
   ],
   "source": [
    "df[df[\"d_release_date\"].isna()].value_counts()"
   ]
  },
  {
   "cell_type": "markdown",
   "id": "theoretical-occasions",
   "metadata": {},
   "source": [
    "Como en usamos el parametro error=\"coerce\" en to_datetime, hubieramos obtenido valores nulos en los registros que no hubiesen podido ser transformados por la función. Sin embargo, no tenemos ningún valor nulo, por lo que no debió de haber habido registros con un formato que no pudiera ser interpretado como un dato datetime."
   ]
  },
  {
   "cell_type": "markdown",
   "id": "patent-contributor",
   "metadata": {},
   "source": [
    "***\n",
    "\n",
    "### 2 De la tabla tratada obten los siguientes datos:  \n",
    "  \n",
    "<div style=\"text-align: justify\"> \n",
    "(a) Obten un DataFrame donde se muestre el conteo de registros por género <br\\>\n",
    "(b) Genera una nueva variable que se llame ”duration minutos” que sea el valor de la variable ”duration ms” en minutos<br\\>\n",
    "(c) ¿Cuáles son las 10 canciones más populares?<br\\>\n",
    "(d) ¿Cúal es el promedio de duración en minutos y milisegundos?<br\\>\n",
    "(e) ¿Cuál es el promedio y conteo de ”energy” por ”genero”?<br\\>\n",
    "(f) ¿Qué canción tiene el ”loudness” más bajo y cúal es la canción que tiene el ”loudness” más alto?<br\\>\n",
    "(g) Obtenga los 10 percentiles de las variables continuas<br\\>\n",
    "<div>\n",
    "    \n",
    " ***"
   ]
  },
  {
   "cell_type": "markdown",
   "id": "shaped-campbell",
   "metadata": {},
   "source": [
    "**A)** Obten un DataFrame donde se muestre el conteo de registros por género."
   ]
  },
  {
   "cell_type": "code",
   "execution_count": 172,
   "id": "durable-reality",
   "metadata": {},
   "outputs": [],
   "source": [
    "# Creamos un dataframe con el uso de value_counts()\n",
    "df_genre_freq = pd.DataFrame(df[\"v_genero\"].value_counts())"
   ]
  },
  {
   "cell_type": "code",
   "execution_count": 173,
   "id": "specialized-florida",
   "metadata": {},
   "outputs": [
    {
     "data": {
      "text/html": [
       "<div>\n",
       "<style scoped>\n",
       "    .dataframe tbody tr th:only-of-type {\n",
       "        vertical-align: middle;\n",
       "    }\n",
       "\n",
       "    .dataframe tbody tr th {\n",
       "        vertical-align: top;\n",
       "    }\n",
       "\n",
       "    .dataframe thead th {\n",
       "        text-align: right;\n",
       "    }\n",
       "</style>\n",
       "<table border=\"1\" class=\"dataframe\">\n",
       "  <thead>\n",
       "    <tr style=\"text-align: right;\">\n",
       "      <th></th>\n",
       "      <th>genre</th>\n",
       "      <th>frequency</th>\n",
       "    </tr>\n",
       "  </thead>\n",
       "  <tbody>\n",
       "    <tr>\n",
       "      <th>0</th>\n",
       "      <td>47.00000</td>\n",
       "      <td>32979</td>\n",
       "    </tr>\n",
       "    <tr>\n",
       "      <th>1</th>\n",
       "      <td>20.00000</td>\n",
       "      <td>30253</td>\n",
       "    </tr>\n",
       "    <tr>\n",
       "      <th>2</th>\n",
       "      <td>50.00000</td>\n",
       "      <td>24391</td>\n",
       "    </tr>\n",
       "    <tr>\n",
       "      <th>3</th>\n",
       "      <td>12.00000</td>\n",
       "      <td>22075</td>\n",
       "    </tr>\n",
       "    <tr>\n",
       "      <th>4</th>\n",
       "      <td>16.00000</td>\n",
       "      <td>21897</td>\n",
       "    </tr>\n",
       "    <tr>\n",
       "      <th>5</th>\n",
       "      <td>21.00000</td>\n",
       "      <td>21728</td>\n",
       "    </tr>\n",
       "    <tr>\n",
       "      <th>6</th>\n",
       "      <td>30.00000</td>\n",
       "      <td>3232</td>\n",
       "    </tr>\n",
       "    <tr>\n",
       "      <th>7</th>\n",
       "      <td>49.00000</td>\n",
       "      <td>3193</td>\n",
       "    </tr>\n",
       "    <tr>\n",
       "      <th>8</th>\n",
       "      <td>48.00000</td>\n",
       "      <td>3116</td>\n",
       "    </tr>\n",
       "    <tr>\n",
       "      <th>9</th>\n",
       "      <td>99.0</td>\n",
       "      <td>1052</td>\n",
       "    </tr>\n",
       "  </tbody>\n",
       "</table>\n",
       "</div>"
      ],
      "text/plain": [
       "      genre  frequency\n",
       "0  47.00000      32979\n",
       "1  20.00000      30253\n",
       "2  50.00000      24391\n",
       "3  12.00000      22075\n",
       "4  16.00000      21897\n",
       "5  21.00000      21728\n",
       "6  30.00000       3232\n",
       "7  49.00000       3193\n",
       "8  48.00000       3116\n",
       "9      99.0       1052"
      ]
     },
     "execution_count": 173,
     "metadata": {},
     "output_type": "execute_result"
    }
   ],
   "source": [
    "# Renombramos columnas\n",
    "df_genre_freq.reset_index().rename(columns={\"index\":\"genre\", \"v_genero\":\"frequency\"})"
   ]
  },
  {
   "cell_type": "markdown",
   "id": "smooth-sleeve",
   "metadata": {},
   "source": [
    "**B)** Genera una nueva variable que se llame ”duration minutos” que sea el valor de la\n",
    "variable ”duration ms” en minutos"
   ]
  },
  {
   "cell_type": "code",
   "execution_count": 174,
   "id": "intended-chaos",
   "metadata": {},
   "outputs": [],
   "source": [
    "#Pasaremos los datos a un dato datetime\n",
    "df[\"duration_minutes\"] = pd.to_timedelta(df[\"d_duration_ms\"], unit='ms')"
   ]
  },
  {
   "cell_type": "code",
   "execution_count": 175,
   "id": "powerful-inquiry",
   "metadata": {},
   "outputs": [
    {
     "data": {
      "text/plain": [
       "0        0 days 00:06:40.093000\n",
       "1        0 days 00:04:50.640000\n",
       "2        0 days 00:03:51.921000\n",
       "3        0 days 00:05:05.058000\n",
       "4        0 days 00:03:36.800000\n",
       "                  ...          \n",
       "165553   0 days 00:01:41.745000\n",
       "165554   0 days 00:01:53.100000\n",
       "165555          0 days 00:01:48\n",
       "165556   0 days 00:03:28.600000\n",
       "165557   0 days 00:04:54.213000\n",
       "Name: duration_minutes, Length: 165558, dtype: timedelta64[ns]"
      ]
     },
     "execution_count": 175,
     "metadata": {},
     "output_type": "execute_result"
    }
   ],
   "source": [
    "df[\"duration_minutes\"]"
   ]
  },
  {
   "cell_type": "markdown",
   "id": "verified-prize",
   "metadata": {},
   "source": [
    "**C)** ¿Cuáles son las 10 canciones más populares?"
   ]
  },
  {
   "cell_type": "code",
   "execution_count": 177,
   "id": "fatal-patrol",
   "metadata": {},
   "outputs": [
    {
     "data": {
      "text/plain": [
       "84162                                    blinding lights\n",
       "84160                          rockstar feat roddy ricch\n",
       "84169    death bed coffee for your head feat beabadoobee\n",
       "84161                                         the scotts\n",
       "84073                    ily i love you baby feat emilee\n",
       "84065                                         supalonely\n",
       "84166                                       toosie slide\n",
       "84061                                            the box\n",
       "84172                      rain on me with ariana grande\n",
       "84079                                       dance monkey\n",
       "Name: t_name, dtype: object"
      ]
     },
     "execution_count": 177,
     "metadata": {},
     "output_type": "execute_result"
    }
   ],
   "source": [
    "# Haremos una subcolsulta con el uso de sort e index slicing para \n",
    "# obtener las canciones con mayor puntaje de popularidad\n",
    "top_10_index = df[\"c_popularity\"].sort_values(ascending=False).index[:10]\n",
    "df[\"t_name\"][top_10_index]"
   ]
  },
  {
   "cell_type": "markdown",
   "id": "opposite-jacket",
   "metadata": {},
   "source": [
    "**D)**¿Cúal es el promedio de duración en minutos y milisegundos?"
   ]
  },
  {
   "cell_type": "code",
   "execution_count": 178,
   "id": "trained-theorem",
   "metadata": {},
   "outputs": [
    {
     "data": {
      "text/plain": [
       "231400.2148612571"
      ]
     },
     "execution_count": 178,
     "metadata": {},
     "output_type": "execute_result"
    }
   ],
   "source": [
    "#En milisegundos\n",
    "df[\"d_duration_ms\"].mean()"
   ]
  },
  {
   "cell_type": "code",
   "execution_count": 179,
   "id": "christian-regulation",
   "metadata": {},
   "outputs": [
    {
     "data": {
      "text/plain": [
       "Timedelta('0 days 00:03:51.400214861')"
      ]
     },
     "execution_count": 179,
     "metadata": {},
     "output_type": "execute_result"
    }
   ],
   "source": [
    "# En minutos\n",
    "df[\"duration_minutes\"].mean()"
   ]
  },
  {
   "cell_type": "markdown",
   "id": "competent-assembly",
   "metadata": {},
   "source": [
    "**E)** ¿Cuál es el promedio y conteo de ”energy” por ”genero”?"
   ]
  },
  {
   "cell_type": "code",
   "execution_count": 180,
   "id": "handed-candle",
   "metadata": {},
   "outputs": [
    {
     "data": {
      "text/html": [
       "<div>\n",
       "<style scoped>\n",
       "    .dataframe tbody tr th:only-of-type {\n",
       "        vertical-align: middle;\n",
       "    }\n",
       "\n",
       "    .dataframe tbody tr th {\n",
       "        vertical-align: top;\n",
       "    }\n",
       "\n",
       "    .dataframe thead tr th {\n",
       "        text-align: left;\n",
       "    }\n",
       "\n",
       "    .dataframe thead tr:last-of-type th {\n",
       "        text-align: right;\n",
       "    }\n",
       "</style>\n",
       "<table border=\"1\" class=\"dataframe\">\n",
       "  <thead>\n",
       "    <tr>\n",
       "      <th></th>\n",
       "      <th colspan=\"2\" halign=\"left\">c_energy</th>\n",
       "    </tr>\n",
       "    <tr>\n",
       "      <th></th>\n",
       "      <th>mean</th>\n",
       "      <th>count</th>\n",
       "    </tr>\n",
       "    <tr>\n",
       "      <th>v_genero</th>\n",
       "      <th></th>\n",
       "      <th></th>\n",
       "    </tr>\n",
       "  </thead>\n",
       "  <tbody>\n",
       "    <tr>\n",
       "      <th>12.0</th>\n",
       "      <td>0.493339</td>\n",
       "      <td>22075</td>\n",
       "    </tr>\n",
       "    <tr>\n",
       "      <th>16.0</th>\n",
       "      <td>0.488489</td>\n",
       "      <td>21897</td>\n",
       "    </tr>\n",
       "    <tr>\n",
       "      <th>20.0</th>\n",
       "      <td>0.488760</td>\n",
       "      <td>30253</td>\n",
       "    </tr>\n",
       "    <tr>\n",
       "      <th>21.0</th>\n",
       "      <td>0.489807</td>\n",
       "      <td>21728</td>\n",
       "    </tr>\n",
       "    <tr>\n",
       "      <th>30.0</th>\n",
       "      <td>0.488098</td>\n",
       "      <td>3232</td>\n",
       "    </tr>\n",
       "    <tr>\n",
       "      <th>47.0</th>\n",
       "      <td>0.491360</td>\n",
       "      <td>32979</td>\n",
       "    </tr>\n",
       "    <tr>\n",
       "      <th>48.0</th>\n",
       "      <td>0.493174</td>\n",
       "      <td>3116</td>\n",
       "    </tr>\n",
       "    <tr>\n",
       "      <th>49.0</th>\n",
       "      <td>0.489755</td>\n",
       "      <td>3193</td>\n",
       "    </tr>\n",
       "    <tr>\n",
       "      <th>50.0</th>\n",
       "      <td>0.492117</td>\n",
       "      <td>24391</td>\n",
       "    </tr>\n",
       "    <tr>\n",
       "      <th>99.0</th>\n",
       "      <td>0.480530</td>\n",
       "      <td>1052</td>\n",
       "    </tr>\n",
       "  </tbody>\n",
       "</table>\n",
       "</div>"
      ],
      "text/plain": [
       "          c_energy       \n",
       "              mean  count\n",
       "v_genero                 \n",
       "12.0      0.493339  22075\n",
       "16.0      0.488489  21897\n",
       "20.0      0.488760  30253\n",
       "21.0      0.489807  21728\n",
       "30.0      0.488098   3232\n",
       "47.0      0.491360  32979\n",
       "48.0      0.493174   3116\n",
       "49.0      0.489755   3193\n",
       "50.0      0.492117  24391\n",
       "99.0      0.480530   1052"
      ]
     },
     "execution_count": 180,
     "metadata": {},
     "output_type": "execute_result"
    }
   ],
   "source": [
    "# Agrupamos por genero y aplicamos funciones de agregación\n",
    "df[[\"v_genero\", \"c_energy\"]].groupby(\"v_genero\").agg([\"mean\", \"count\"])"
   ]
  },
  {
   "cell_type": "markdown",
   "id": "sonic-glossary",
   "metadata": {},
   "source": [
    "**F)** ¿Qué canción tiene el ”loudness” más bajo y cúal es la canción que tiene el ”loud- ness” más alto?"
   ]
  },
  {
   "cell_type": "code",
   "execution_count": 181,
   "id": "sound-search",
   "metadata": {},
   "outputs": [
    {
     "data": {
      "text/html": [
       "<div>\n",
       "<style scoped>\n",
       "    .dataframe tbody tr th:only-of-type {\n",
       "        vertical-align: middle;\n",
       "    }\n",
       "\n",
       "    .dataframe tbody tr th {\n",
       "        vertical-align: top;\n",
       "    }\n",
       "\n",
       "    .dataframe thead th {\n",
       "        text-align: right;\n",
       "    }\n",
       "</style>\n",
       "<table border=\"1\" class=\"dataframe\">\n",
       "  <thead>\n",
       "    <tr style=\"text-align: right;\">\n",
       "      <th></th>\n",
       "      <th>c_acousticness</th>\n",
       "      <th>t_artists</th>\n",
       "      <th>c_danceability</th>\n",
       "      <th>d_duration_ms</th>\n",
       "      <th>c_energy</th>\n",
       "      <th>t_id</th>\n",
       "      <th>c_instrumentalness</th>\n",
       "      <th>c_liveness</th>\n",
       "      <th>c_loudness</th>\n",
       "      <th>v_mode</th>\n",
       "      <th>...</th>\n",
       "      <th>county_name</th>\n",
       "      <th>county_weights</th>\n",
       "      <th>county_names_all</th>\n",
       "      <th>county_fips_all</th>\n",
       "      <th>imprecise</th>\n",
       "      <th>military</th>\n",
       "      <th>timezone</th>\n",
       "      <th>c_lng</th>\n",
       "      <th>state</th>\n",
       "      <th>duration_minutes</th>\n",
       "    </tr>\n",
       "  </thead>\n",
       "  <tbody>\n",
       "    <tr>\n",
       "      <th>38695</th>\n",
       "      <td>0.0</td>\n",
       "      <td>connie francis</td>\n",
       "      <td>0.0</td>\n",
       "      <td>179466</td>\n",
       "      <td>0.0</td>\n",
       "      <td>0zr7DJGTPUfAUmjM7crmt2</td>\n",
       "      <td>0.0</td>\n",
       "      <td>0.0</td>\n",
       "      <td>-60.0</td>\n",
       "      <td>0</td>\n",
       "      <td>...</td>\n",
       "      <td>Chatham</td>\n",
       "      <td>{'37037':98.4,'37151':1.6}</td>\n",
       "      <td>Chatham|Randolph</td>\n",
       "      <td>37037|37151</td>\n",
       "      <td>False</td>\n",
       "      <td>False</td>\n",
       "      <td>America/New_York</td>\n",
       "      <td>NaN</td>\n",
       "      <td>north carolina siler city</td>\n",
       "      <td>0 days 00:02:59.466000</td>\n",
       "    </tr>\n",
       "    <tr>\n",
       "      <th>45210</th>\n",
       "      <td>0.0</td>\n",
       "      <td>sarah vaughan</td>\n",
       "      <td>0.0</td>\n",
       "      <td>6467</td>\n",
       "      <td>0.0</td>\n",
       "      <td>3lRVIn6D6EUbvkOgPZAU1H</td>\n",
       "      <td>0.0</td>\n",
       "      <td>0.0</td>\n",
       "      <td>-60.0</td>\n",
       "      <td>0</td>\n",
       "      <td>...</td>\n",
       "      <td>Jefferson</td>\n",
       "      <td>{'48245':100}</td>\n",
       "      <td>Jefferson</td>\n",
       "      <td>48245</td>\n",
       "      <td>False</td>\n",
       "      <td>False</td>\n",
       "      <td>America/Chicago</td>\n",
       "      <td>NaN</td>\n",
       "      <td>texas groves</td>\n",
       "      <td>0 days 00:00:06.467000</td>\n",
       "    </tr>\n",
       "    <tr>\n",
       "      <th>57590</th>\n",
       "      <td>0.0</td>\n",
       "      <td>robert earl keen</td>\n",
       "      <td>0.0</td>\n",
       "      <td>60372</td>\n",
       "      <td>0.0</td>\n",
       "      <td>0o12mLSQuXFgsh4e2Kc4e5</td>\n",
       "      <td>0.0</td>\n",
       "      <td>0.0</td>\n",
       "      <td>-60.0</td>\n",
       "      <td>0</td>\n",
       "      <td>...</td>\n",
       "      <td>Mono</td>\n",
       "      <td>{'06051':100}</td>\n",
       "      <td>Mono</td>\n",
       "      <td>06051</td>\n",
       "      <td>False</td>\n",
       "      <td>False</td>\n",
       "      <td>America/Los_Angeles</td>\n",
       "      <td>NaN</td>\n",
       "      <td>california lee vining</td>\n",
       "      <td>0 days 00:01:00.372000</td>\n",
       "    </tr>\n",
       "    <tr>\n",
       "      <th>58472</th>\n",
       "      <td>0.0</td>\n",
       "      <td>atlas fret</td>\n",
       "      <td>0.0</td>\n",
       "      <td>132827</td>\n",
       "      <td>0.0</td>\n",
       "      <td>7cctPQS83y620UQtMd1ilL</td>\n",
       "      <td>0.0</td>\n",
       "      <td>0.0</td>\n",
       "      <td>-60.0</td>\n",
       "      <td>0</td>\n",
       "      <td>...</td>\n",
       "      <td>Pike</td>\n",
       "      <td>{'18125':100}</td>\n",
       "      <td>Pike</td>\n",
       "      <td>18125</td>\n",
       "      <td>False</td>\n",
       "      <td>False</td>\n",
       "      <td>America/Indiana/Petersburg</td>\n",
       "      <td>NaN</td>\n",
       "      <td>indiana stendal</td>\n",
       "      <td>0 days 00:02:12.827000</td>\n",
       "    </tr>\n",
       "    <tr>\n",
       "      <th>61061</th>\n",
       "      <td>0.0</td>\n",
       "      <td>connie francis</td>\n",
       "      <td>0.0</td>\n",
       "      <td>253719</td>\n",
       "      <td>0.0</td>\n",
       "      <td>5KAJv7Bceihn1frqElloIb</td>\n",
       "      <td>0.0</td>\n",
       "      <td>0.0</td>\n",
       "      <td>-60.0</td>\n",
       "      <td>0</td>\n",
       "      <td>...</td>\n",
       "      <td>New London</td>\n",
       "      <td>{'09011':100}</td>\n",
       "      <td>New London</td>\n",
       "      <td>09011</td>\n",
       "      <td>False</td>\n",
       "      <td>False</td>\n",
       "      <td>America/New_York</td>\n",
       "      <td>NaN</td>\n",
       "      <td>connecticut niantic</td>\n",
       "      <td>0 days 00:04:13.719000</td>\n",
       "    </tr>\n",
       "    <tr>\n",
       "      <th>95180</th>\n",
       "      <td>0.0</td>\n",
       "      <td>benny goodman</td>\n",
       "      <td>0.0</td>\n",
       "      <td>5991</td>\n",
       "      <td>0.0</td>\n",
       "      <td>3IcXTeq9O2dpsSXsDj9naH</td>\n",
       "      <td>0.0</td>\n",
       "      <td>0.0</td>\n",
       "      <td>-60.0</td>\n",
       "      <td>0</td>\n",
       "      <td>...</td>\n",
       "      <td>Ontario</td>\n",
       "      <td>{'36069':100}</td>\n",
       "      <td>Ontario</td>\n",
       "      <td>36069</td>\n",
       "      <td>False</td>\n",
       "      <td>False</td>\n",
       "      <td>America/New_York</td>\n",
       "      <td>NaN</td>\n",
       "      <td>new york shortsville</td>\n",
       "      <td>0 days 00:00:05.991000</td>\n",
       "    </tr>\n",
       "    <tr>\n",
       "      <th>104469</th>\n",
       "      <td>0.0</td>\n",
       "      <td>benny goodman</td>\n",
       "      <td>0.0</td>\n",
       "      <td>6362</td>\n",
       "      <td>0.0</td>\n",
       "      <td>523qs4UcGlQ6ycdha1VGqs</td>\n",
       "      <td>0.0</td>\n",
       "      <td>0.0</td>\n",
       "      <td>-60.0</td>\n",
       "      <td>0</td>\n",
       "      <td>...</td>\n",
       "      <td>Passaic</td>\n",
       "      <td>{'34031':100}</td>\n",
       "      <td>Passaic</td>\n",
       "      <td>34031</td>\n",
       "      <td>False</td>\n",
       "      <td>False</td>\n",
       "      <td>America/New_York</td>\n",
       "      <td>NaN</td>\n",
       "      <td>new jersey wayne</td>\n",
       "      <td>0 days 00:00:06.362000</td>\n",
       "    </tr>\n",
       "    <tr>\n",
       "      <th>132931</th>\n",
       "      <td>0.0</td>\n",
       "      <td>future rapper</td>\n",
       "      <td>0.0</td>\n",
       "      <td>420000</td>\n",
       "      <td>0.0</td>\n",
       "      <td>0Rd7eiAZGayLT8TmrVpQzG</td>\n",
       "      <td>0.0</td>\n",
       "      <td>0.0</td>\n",
       "      <td>-60.0</td>\n",
       "      <td>0</td>\n",
       "      <td>...</td>\n",
       "      <td>Allegheny</td>\n",
       "      <td>{'42003':100}</td>\n",
       "      <td>Allegheny</td>\n",
       "      <td>42003</td>\n",
       "      <td>False</td>\n",
       "      <td>False</td>\n",
       "      <td>America/New_York</td>\n",
       "      <td>NaN</td>\n",
       "      <td>pennsylvania pittsburgh</td>\n",
       "      <td>0 days 00:07:00</td>\n",
       "    </tr>\n",
       "    <tr>\n",
       "      <th>141496</th>\n",
       "      <td>0.0</td>\n",
       "      <td>sarah vaughan</td>\n",
       "      <td>0.0</td>\n",
       "      <td>5108</td>\n",
       "      <td>0.0</td>\n",
       "      <td>0hr9kRUi2X4MXc72A4VxG4</td>\n",
       "      <td>0.0</td>\n",
       "      <td>0.0</td>\n",
       "      <td>-60.0</td>\n",
       "      <td>0</td>\n",
       "      <td>...</td>\n",
       "      <td>Sacramento</td>\n",
       "      <td>{'06067':100}</td>\n",
       "      <td>Sacramento</td>\n",
       "      <td>06067</td>\n",
       "      <td>False</td>\n",
       "      <td>False</td>\n",
       "      <td>America/Los_Angeles</td>\n",
       "      <td>NaN</td>\n",
       "      <td>california sacramento</td>\n",
       "      <td>0 days 00:00:05.108000</td>\n",
       "    </tr>\n",
       "  </tbody>\n",
       "</table>\n",
       "<p>9 rows × 39 columns</p>\n",
       "</div>"
      ],
      "text/plain": [
       "        c_acousticness         t_artists  c_danceability  d_duration_ms  \\\n",
       "38695              0.0    connie francis             0.0         179466   \n",
       "45210              0.0     sarah vaughan             0.0           6467   \n",
       "57590              0.0  robert earl keen             0.0          60372   \n",
       "58472              0.0        atlas fret             0.0         132827   \n",
       "61061              0.0    connie francis             0.0         253719   \n",
       "95180              0.0     benny goodman             0.0           5991   \n",
       "104469             0.0     benny goodman             0.0           6362   \n",
       "132931             0.0     future rapper             0.0         420000   \n",
       "141496             0.0     sarah vaughan             0.0           5108   \n",
       "\n",
       "        c_energy                    t_id  c_instrumentalness  c_liveness  \\\n",
       "38695        0.0  0zr7DJGTPUfAUmjM7crmt2                 0.0         0.0   \n",
       "45210        0.0  3lRVIn6D6EUbvkOgPZAU1H                 0.0         0.0   \n",
       "57590        0.0  0o12mLSQuXFgsh4e2Kc4e5                 0.0         0.0   \n",
       "58472        0.0  7cctPQS83y620UQtMd1ilL                 0.0         0.0   \n",
       "61061        0.0  5KAJv7Bceihn1frqElloIb                 0.0         0.0   \n",
       "95180        0.0  3IcXTeq9O2dpsSXsDj9naH                 0.0         0.0   \n",
       "104469       0.0  523qs4UcGlQ6ycdha1VGqs                 0.0         0.0   \n",
       "132931       0.0  0Rd7eiAZGayLT8TmrVpQzG                 0.0         0.0   \n",
       "141496       0.0  0hr9kRUi2X4MXc72A4VxG4                 0.0         0.0   \n",
       "\n",
       "        c_loudness  v_mode  ... county_name              county_weights  \\\n",
       "38695        -60.0       0  ...     Chatham  {'37037':98.4,'37151':1.6}   \n",
       "45210        -60.0       0  ...   Jefferson               {'48245':100}   \n",
       "57590        -60.0       0  ...        Mono               {'06051':100}   \n",
       "58472        -60.0       0  ...        Pike               {'18125':100}   \n",
       "61061        -60.0       0  ...  New London               {'09011':100}   \n",
       "95180        -60.0       0  ...     Ontario               {'36069':100}   \n",
       "104469       -60.0       0  ...     Passaic               {'34031':100}   \n",
       "132931       -60.0       0  ...   Allegheny               {'42003':100}   \n",
       "141496       -60.0       0  ...  Sacramento               {'06067':100}   \n",
       "\n",
       "        county_names_all  county_fips_all  imprecise  military  \\\n",
       "38695   Chatham|Randolph      37037|37151      False     False   \n",
       "45210          Jefferson            48245      False     False   \n",
       "57590               Mono            06051      False     False   \n",
       "58472               Pike            18125      False     False   \n",
       "61061         New London            09011      False     False   \n",
       "95180            Ontario            36069      False     False   \n",
       "104469           Passaic            34031      False     False   \n",
       "132931         Allegheny            42003      False     False   \n",
       "141496        Sacramento            06067      False     False   \n",
       "\n",
       "                          timezone c_lng                      state  \\\n",
       "38695             America/New_York   NaN  north carolina siler city   \n",
       "45210              America/Chicago   NaN               texas groves   \n",
       "57590          America/Los_Angeles   NaN      california lee vining   \n",
       "58472   America/Indiana/Petersburg   NaN            indiana stendal   \n",
       "61061             America/New_York   NaN        connecticut niantic   \n",
       "95180             America/New_York   NaN       new york shortsville   \n",
       "104469            America/New_York   NaN           new jersey wayne   \n",
       "132931            America/New_York   NaN    pennsylvania pittsburgh   \n",
       "141496         America/Los_Angeles   NaN      california sacramento   \n",
       "\n",
       "             duration_minutes  \n",
       "38695  0 days 00:02:59.466000  \n",
       "45210  0 days 00:00:06.467000  \n",
       "57590  0 days 00:01:00.372000  \n",
       "58472  0 days 00:02:12.827000  \n",
       "61061  0 days 00:04:13.719000  \n",
       "95180  0 days 00:00:05.991000  \n",
       "104469 0 days 00:00:06.362000  \n",
       "132931        0 days 00:07:00  \n",
       "141496 0 days 00:00:05.108000  \n",
       "\n",
       "[9 rows x 39 columns]"
      ]
     },
     "execution_count": 181,
     "metadata": {},
     "output_type": "execute_result"
    }
   ],
   "source": [
    "# mínimo\n",
    "min_loudness = df[df[\"c_loudness\"]==df[\"c_loudness\"].min()]\n",
    "min_loudness"
   ]
  },
  {
   "cell_type": "code",
   "execution_count": 182,
   "id": "american-universe",
   "metadata": {},
   "outputs": [
    {
     "data": {
      "text/html": [
       "<div>\n",
       "<style scoped>\n",
       "    .dataframe tbody tr th:only-of-type {\n",
       "        vertical-align: middle;\n",
       "    }\n",
       "\n",
       "    .dataframe tbody tr th {\n",
       "        vertical-align: top;\n",
       "    }\n",
       "\n",
       "    .dataframe thead th {\n",
       "        text-align: right;\n",
       "    }\n",
       "</style>\n",
       "<table border=\"1\" class=\"dataframe\">\n",
       "  <thead>\n",
       "    <tr style=\"text-align: right;\">\n",
       "      <th></th>\n",
       "      <th>c_acousticness</th>\n",
       "      <th>t_artists</th>\n",
       "      <th>c_danceability</th>\n",
       "      <th>d_duration_ms</th>\n",
       "      <th>c_energy</th>\n",
       "      <th>t_id</th>\n",
       "      <th>c_instrumentalness</th>\n",
       "      <th>c_liveness</th>\n",
       "      <th>c_loudness</th>\n",
       "      <th>v_mode</th>\n",
       "      <th>...</th>\n",
       "      <th>county_name</th>\n",
       "      <th>county_weights</th>\n",
       "      <th>county_names_all</th>\n",
       "      <th>county_fips_all</th>\n",
       "      <th>imprecise</th>\n",
       "      <th>military</th>\n",
       "      <th>timezone</th>\n",
       "      <th>c_lng</th>\n",
       "      <th>state</th>\n",
       "      <th>duration_minutes</th>\n",
       "    </tr>\n",
       "  </thead>\n",
       "  <tbody>\n",
       "    <tr>\n",
       "      <th>104268</th>\n",
       "      <td>0.000047</td>\n",
       "      <td>apocolothoth</td>\n",
       "      <td>0.0</td>\n",
       "      <td>152476</td>\n",
       "      <td>0.114</td>\n",
       "      <td>050FXMyCrQJG01AT55Jvk1</td>\n",
       "      <td>0.998</td>\n",
       "      <td>0.578</td>\n",
       "      <td>3.855</td>\n",
       "      <td>0</td>\n",
       "      <td>...</td>\n",
       "      <td>Campbell</td>\n",
       "      <td>{'47013':100}</td>\n",
       "      <td>Campbell</td>\n",
       "      <td>47013</td>\n",
       "      <td>False</td>\n",
       "      <td>False</td>\n",
       "      <td>America/New_York</td>\n",
       "      <td>NaN</td>\n",
       "      <td>tennessee la follette</td>\n",
       "      <td>0 days 00:02:32.476000</td>\n",
       "    </tr>\n",
       "  </tbody>\n",
       "</table>\n",
       "<p>1 rows × 39 columns</p>\n",
       "</div>"
      ],
      "text/plain": [
       "        c_acousticness     t_artists  c_danceability  d_duration_ms  c_energy  \\\n",
       "104268        0.000047  apocolothoth             0.0         152476     0.114   \n",
       "\n",
       "                          t_id  c_instrumentalness  c_liveness  c_loudness  \\\n",
       "104268  050FXMyCrQJG01AT55Jvk1               0.998       0.578       3.855   \n",
       "\n",
       "        v_mode  ... county_name  county_weights county_names_all  \\\n",
       "104268       0  ...    Campbell   {'47013':100}         Campbell   \n",
       "\n",
       "        county_fips_all  imprecise  military          timezone c_lng  \\\n",
       "104268            47013      False     False  America/New_York   NaN   \n",
       "\n",
       "                        state       duration_minutes  \n",
       "104268  tennessee la follette 0 days 00:02:32.476000  \n",
       "\n",
       "[1 rows x 39 columns]"
      ]
     },
     "execution_count": 182,
     "metadata": {},
     "output_type": "execute_result"
    }
   ],
   "source": [
    "# Máximo\n",
    "max_loudness = df[df[\"c_loudness\"]==df[\"c_loudness\"].max()]\n",
    "max_loudness"
   ]
  },
  {
   "cell_type": "markdown",
   "id": "greenhouse-frontier",
   "metadata": {},
   "source": [
    "**G**) Obtenga los 10 percentiles de las variables continuas"
   ]
  },
  {
   "cell_type": "code",
   "execution_count": 185,
   "id": "bigger-aerospace",
   "metadata": {},
   "outputs": [
    {
     "name": "stdout",
     "output_type": "stream",
     "text": [
      "c_acousticness\n",
      "0.1    0.00871\n",
      "0.2    0.05190\n",
      "0.3    0.14310\n",
      "0.4    0.28900\n",
      "0.5    0.48300\n",
      "0.6    0.68000\n",
      "0.7    0.82700\n",
      "0.8    0.93200\n",
      "0.9    0.98300\n",
      "1.0    0.99600\n",
      "Name: c_acousticness, dtype: float64\n",
      "\n",
      "\n",
      "c_danceability\n",
      "0.1    0.299\n",
      "0.2    0.385\n",
      "0.3    0.448\n",
      "0.4    0.501\n",
      "0.5    0.549\n",
      "0.6    0.596\n",
      "0.7    0.643\n",
      "0.8    0.696\n",
      "0.9    0.761\n",
      "1.0    0.988\n",
      "Name: c_danceability, dtype: float64\n",
      "\n",
      "\n",
      "c_energy\n",
      "0.1    0.131\n",
      "0.2    0.222\n",
      "0.3    0.307\n",
      "0.4    0.396\n",
      "0.5    0.483\n",
      "0.6    0.572\n",
      "0.7    0.666\n",
      "0.8    0.761\n",
      "0.9    0.868\n",
      "1.0    1.000\n",
      "Name: c_energy, dtype: float64\n",
      "\n",
      "\n",
      "c_instrumentalness\n",
      "0.1    0.000000\n",
      "0.2    0.000000\n",
      "0.3    0.000002\n",
      "0.4    0.000020\n",
      "0.5    0.000192\n",
      "0.6    0.001940\n",
      "0.7    0.022700\n",
      "0.8    0.275000\n",
      "0.9    0.829000\n",
      "1.0    1.000000\n",
      "Name: c_instrumentalness, dtype: float64\n",
      "\n",
      "\n",
      "c_liveness\n",
      "0.1    0.0729\n",
      "0.2    0.0911\n",
      "0.3    0.1050\n",
      "0.4    0.1160\n",
      "0.5    0.1350\n",
      "0.6    0.1670\n",
      "0.7    0.2230\n",
      "0.8    0.3050\n",
      "0.9    0.4070\n",
      "1.0    1.0000\n",
      "Name: c_liveness, dtype: float64\n",
      "\n",
      "\n",
      "c_loudness\n",
      "0.1   -18.8683\n",
      "0.2   -15.5650\n",
      "0.3   -13.4520\n",
      "0.4   -11.8550\n",
      "0.5   -10.4140\n",
      "0.6    -9.0660\n",
      "0.7    -7.7260\n",
      "0.8    -6.4060\n",
      "0.9    -4.9850\n",
      "1.0     3.8550\n",
      "Name: c_loudness, dtype: float64\n",
      "\n",
      "\n",
      "c_popularity\n",
      "0.1      0.0\n",
      "0.2      6.0\n",
      "0.3     20.0\n",
      "0.4     28.0\n",
      "0.5     34.0\n",
      "0.6     40.0\n",
      "0.7     45.0\n",
      "0.8     52.0\n",
      "0.9     60.0\n",
      "1.0    100.0\n",
      "Name: c_popularity, dtype: float64\n",
      "\n",
      "\n",
      "c_speechiness\n",
      "0.1    0.0300\n",
      "0.2    0.0334\n",
      "0.3    0.0366\n",
      "0.4    0.0404\n",
      "0.5    0.0451\n",
      "0.6    0.0522\n",
      "0.7    0.0648\n",
      "0.8    0.0933\n",
      "0.9    0.1930\n",
      "1.0    0.9690\n",
      "Name: c_speechiness, dtype: float64\n",
      "\n",
      "\n",
      "c_tempo\n",
      "0.1     79.6330\n",
      "0.2     89.2670\n",
      "0.3     97.3952\n",
      "0.4    106.0398\n",
      "0.5    114.8490\n",
      "0.6    122.7200\n",
      "0.7    130.7630\n",
      "0.8    141.1900\n",
      "0.9    161.9993\n",
      "1.0    244.0910\n",
      "Name: c_tempo, dtype: float64\n",
      "\n",
      "\n",
      "c_valence\n",
      "0.1    0.159\n",
      "0.2    0.271\n",
      "0.3    0.367\n",
      "0.4    0.460\n",
      "0.5    0.544\n",
      "0.6    0.626\n",
      "0.7    0.708\n",
      "0.8    0.793\n",
      "0.9    0.887\n",
      "1.0    1.000\n",
      "Name: c_valence, dtype: float64\n",
      "\n",
      "\n",
      "c_lng\n",
      "0.1   -490.062340\n",
      "0.2   -469.583080\n",
      "0.3   -387.666040\n",
      "0.4   -387.666040\n",
      "0.5   -295.142790\n",
      "0.6   -286.318458\n",
      "0.7   -280.435570\n",
      "0.8   -280.435570\n",
      "0.9   -270.833190\n",
      "1.0   -270.833190\n",
      "Name: c_lng, dtype: float64\n",
      "\n",
      "\n"
     ]
    }
   ],
   "source": [
    "# Usamos un loop junto con filter para encontrar los cuantiles de cada\n",
    "# variable continua\n",
    "for column in df.filter(like=\"c_\"):\n",
    "    print(column)\n",
    "    print(df[column].quantile([x/10 for x in range(1,11)]))\n",
    "    print(\"\\n\")"
   ]
  },
  {
   "cell_type": "code",
   "execution_count": null,
   "id": "combined-institution",
   "metadata": {},
   "outputs": [],
   "source": []
  }
 ],
 "metadata": {
  "kernelspec": {
   "display_name": "Python 3",
   "language": "python",
   "name": "python3"
  },
  "language_info": {
   "codemirror_mode": {
    "name": "ipython",
    "version": 3
   },
   "file_extension": ".py",
   "mimetype": "text/x-python",
   "name": "python",
   "nbconvert_exporter": "python",
   "pygments_lexer": "ipython3",
   "version": "3.8.10"
  },
  "varInspector": {
   "cols": {
    "lenName": 16,
    "lenType": 16,
    "lenVar": 40
   },
   "kernels_config": {
    "python": {
     "delete_cmd_postfix": "",
     "delete_cmd_prefix": "del ",
     "library": "var_list.py",
     "varRefreshCmd": "print(var_dic_list())"
    },
    "r": {
     "delete_cmd_postfix": ") ",
     "delete_cmd_prefix": "rm(",
     "library": "var_list.r",
     "varRefreshCmd": "cat(var_dic_list()) "
    }
   },
   "types_to_exclude": [
    "module",
    "function",
    "builtin_function_or_method",
    "instance",
    "_Feature"
   ],
   "window_display": false
  }
 },
 "nbformat": 4,
 "nbformat_minor": 5
}
